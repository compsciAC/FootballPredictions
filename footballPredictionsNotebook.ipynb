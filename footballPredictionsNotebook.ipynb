{
 "cells": [
  {
   "cell_type": "code",
   "execution_count": 142,
   "id": "450dae1d",
   "metadata": {},
   "outputs": [],
   "source": [
    "from pyspark.sql import SparkSession\n",
    "from pyspark.sql.functions import col, lag, date_format, concat_ws, to_timestamp, to_date, expr, StringType, collect_list, when\n",
    "from pyspark.sql.window import Window\n",
    "\n",
    "spark = SparkSession.builder.appName(\"FB\").getOrCreate()\n",
    "\n",
    "df = spark.read.csv(\"C:/Users/ThinkPad/GitProjects/FootballPredictions/E0.csv\", header=True, inferSchema=True)\n",
    "df2 = spark.read.csv(\"C:/Users/ThinkPad/GitProjects/FootballPredictions/E0 (1).csv\", header=True, inferSchema=True)\n",
    "df3 = spark.read.csv(\"C:/Users/ThinkPad/GitProjects/FootballPredictions/E0 (2).csv\", header=True, inferSchema=True)\n",
    "df4 = spark.read.csv(\"C:/Users/ThinkPad/GitProjects/FootballPredictions/E0 (3).csv\", header=True, inferSchema=True)\n"
   ]
  },
  {
   "cell_type": "code",
   "execution_count": 143,
   "id": "0c5eb75c",
   "metadata": {},
   "outputs": [
    {
     "name": "stdout",
     "output_type": "stream",
     "text": [
      "+---+----------+-------------------+-----------+-------------+----+----+---+----+----+---+---------+---+---+---+---+---+---+---+---+---+---+---+---+-----+-----+-----+----+----+----+----+----+----+----+----+-----+----+---+----+----+----+----+----+----+----+----+----+-----+--------+--------+-----+-----+-------+-------+-------+-------+-----+-------+-------+----+----+------+------+------+------+------+------+------+----+----+----+----+----+----+----+----+-----+----+----+----+----+----+----+-----+-----+-----+-----+-----+-----+---------+---------+------+------+--------+--------+--------+--------+-----+--------+--------+-----+-----+-------+-------+-------+-------+\n",
      "|Div|      Date|               Time|   HomeTeam|     AwayTeam|FTHG|FTAG|FTR|HTHG|HTAG|HTR|  Referee| HS| AS|HST|AST| HF| AF| HC| AC| HY| AY| HR| AR|B365H|B365D|B365A| BWH| BWD| BWA| IWH| IWD| IWA| PSH| PSD|  PSA| WHH|WHD| WHA| VCH| VCD| VCA|MaxH|MaxD|MaxA|AvgH|AvgD| AvgA|B365>2.5|B365<2.5|P>2.5|P<2.5|Max>2.5|Max<2.5|Avg>2.5|Avg<2.5|  AHh|B365AHH|B365AHA|PAHH|PAHA|MaxAHH|MaxAHA|AvgAHH|AvgAHA|B365CH|B365CD|B365CA|BWCH|BWCD|BWCA|IWCH|IWCD|IWCA|PSCH|PSCD| PSCA|WHCH|WHCD|WHCA|VCCH|VCCD|VCCA|MaxCH|MaxCD|MaxCA|AvgCH|AvgCD|AvgCA|B365C>2.5|B365C<2.5|PC>2.5|PC<2.5|MaxC>2.5|MaxC<2.5|AvgC>2.5|AvgC<2.5| AHCh|B365CAHH|B365CAHA|PCAHH|PCAHA|MaxCAHH|MaxCAHA|AvgCAHH|AvgCAHA|\n",
      "+---+----------+-------------------+-----------+-------------+----+----+---+----+----+---+---------+---+---+---+---+---+---+---+---+---+---+---+---+-----+-----+-----+----+----+----+----+----+----+----+----+-----+----+---+----+----+----+----+----+----+----+----+----+-----+--------+--------+-----+-----+-------+-------+-------+-------+-----+-------+-------+----+----+------+------+------+------+------+------+------+----+----+----+----+----+----+----+----+-----+----+----+----+----+----+----+-----+-----+-----+-----+-----+-----+---------+---------+------+------+--------+--------+--------+--------+-----+--------+--------+-----+-----+-------+-------+-------+-------+\n",
      "| E0|11/08/2023|2024-07-28 20:00:00|    Burnley|     Man City|   0|   3|  A|   0|   2|  A| C Pawson|  6| 17|  1|  8| 11|  8|  6|  5|  0|  0|  1|  0|  8.0|  5.5| 1.33|8.75|5.25|1.34| 8.0| 5.5|1.35|8.58|5.51| 1.37| 8.0|5.0|1.25| 9.5|5.25|1.33| 9.5|5.68|1.39|9.02|5.35| 1.35|    1.67|     2.2| 1.68| 2.29|   1.71|    2.4|   1.65|   2.27|  1.5|   1.86|   2.07|1.86|2.07|  1.93|  2.09|  1.85|  2.03|   9.0|  5.25|  1.33|8.75|5.25|1.33| 8.5|5.25|1.35|9.62|5.81| 1.33| 7.5| 4.6|1.29|10.5|5.25| 1.3| 10.5| 5.81| 1.36| 9.27| 5.45| 1.33|     1.67|      2.2|  1.65|  2.35|    1.73|    2.45|    1.64|    2.28|  1.5|    1.95|    1.98| 1.95| 1.97|   NULL|   NULL|   1.92|   1.95|\n",
      "| E0|12/08/2023|2024-07-28 12:30:00|    Arsenal|Nott'm Forest|   2|   1|  H|   2|   0|  H| M Oliver| 15|  6|  7|  2| 12| 12|  8|  3|  2|  2|  0|  0| 1.18|  7.0| 15.0|1.17| 7.5|15.5| 1.2|7.25|14.0|1.18|7.86|15.67|1.12|6.5|12.0|1.14| 7.5|17.0|1.21| 8.5|17.5|1.18|7.64|15.67|    1.44|    2.75| 1.42| 2.93|   1.45|   2.98|   1.42|   2.85| -2.0|   1.88|   2.02|1.88|2.01|  1.91|  2.06|  1.87|  1.99|  1.18|   7.0|  15.0|1.18| 7.0|14.5| 1.2| 7.0|14.0|1.19| 8.0| 16.0|1.12| 6.5|12.0|1.22| 7.0|13.0| 1.22|  8.4| 19.0| 1.19| 7.43|15.98|      1.5|     2.63|  1.49|  2.65|    1.52|    2.79|    1.49|    2.63| -2.0|    1.95|    1.98| 1.93| 1.97|   2.01|   2.09|   1.95|   1.92|\n",
      "| E0|12/08/2023|2024-07-28 15:00:00|Bournemouth|     West Ham|   1|   1|  D|   0|   0|  D| P Bankes| 14| 16|  5|  3|  9| 14| 10|  4|  1|  4|  0|  0|  2.7|  3.4| 2.55|2.65| 3.4|2.55| 2.7|3.45| 2.6| 2.7|3.47| 2.71|2.62|3.2| 2.3|2.63| 3.3|2.63| 2.8|3.62|2.75|2.69|3.44| 2.64|     1.9|     2.0|  1.9| 1.99|   1.95|   2.03|   1.88|   1.94|  0.0|   1.95|   1.95|1.95|1.95|  1.98|  1.99|  1.94|  1.92|  2.63|   3.5|   2.6|2.65| 3.5| 2.5| 2.6| 3.5| 2.6|2.75| 3.6| 2.63| 2.5| 3.2|2.45|2.63| 3.5| 2.6| 2.88| 3.67|  2.7|  2.7| 3.53| 2.59|     1.73|      2.1|  1.76|  2.18|    1.83|    2.23|    1.74|    2.12|  0.0|    2.02|    1.91| 2.01| 1.92|   2.06|   1.96|   1.96|   1.91|\n",
      "| E0|12/08/2023|2024-07-28 15:00:00|   Brighton|        Luton|   4|   1|  H|   1|   0|  H|  D Coote| 27|  9| 12|  3| 11| 12|  6|  7|  2|  2|  0|  0| 1.33|  5.5|  9.0|1.32| 5.5| 9.0|1.35|5.25| 8.5|1.33|5.65| 9.61|1.25|4.6| 8.5|1.29|5.25|10.0|1.36| 6.0|10.5|1.33|5.52| 9.61|    1.62|     2.3| 1.62|  2.4|   1.65|   2.45|   1.61|   2.34| -1.5|   1.95|   1.95|1.95|1.95|  1.98|   2.0|  1.93|  1.93|  1.25|   6.5|  11.0|1.26| 6.0|11.0| 1.3| 5.5| 9.5|1.27|6.36|11.36|1.22| 5.5| 9.0|1.25|5.75|13.0| 1.34| 6.59| 13.0| 1.28| 5.99|10.91|     1.53|      2.5|  1.56|  2.54|    1.62|    2.66|    1.55|    2.48|-1.75|    2.01|    1.92|  2.0| 1.91|   2.14|   1.93|    2.0|   1.86|\n",
      "| E0|12/08/2023|2024-07-28 15:00:00|    Everton|       Fulham|   0|   1|  A|   0|   0|  D|S Attwell| 19|  9|  9|  2| 12|  6| 10|  4|  0|  2|  0|  0|  2.2|  3.4|  3.3| 2.2| 3.4|3.25|2.25| 3.4|3.25|2.27|3.45| 3.35| 2.1|3.2| 3.0| 2.2| 3.3|3.25| 2.3|3.57|3.45|2.24|3.43|  3.3|    2.01|    1.89|  2.0| 1.89|   2.04|   1.92|   1.97|   1.86|-0.25|   1.93|   1.97|1.95|1.95|  1.97|   2.0|  1.92|  1.93|   2.3|   3.2|   3.2|2.35| 3.2| 3.1|2.35|3.25|3.15|2.39|3.32|  3.3| 2.1| 3.2| 3.0|2.38| 3.2| 3.2| 2.42| 3.42| 3.56| 2.32| 3.28| 3.27|      2.1|     1.73|  2.23|  1.72|    2.26|    1.81|    2.17|    1.71|-0.25|    2.06|    1.87| 2.04| 1.88|   2.08|   1.99|   1.98|   1.88|\n",
      "+---+----------+-------------------+-----------+-------------+----+----+---+----+----+---+---------+---+---+---+---+---+---+---+---+---+---+---+---+-----+-----+-----+----+----+----+----+----+----+----+----+-----+----+---+----+----+----+----+----+----+----+----+----+-----+--------+--------+-----+-----+-------+-------+-------+-------+-----+-------+-------+----+----+------+------+------+------+------+------+------+----+----+----+----+----+----+----+----+-----+----+----+----+----+----+----+-----+-----+-----+-----+-----+-----+---------+---------+------+------+--------+--------+--------+--------+-----+--------+--------+-----+-----+-------+-------+-------+-------+\n",
      "only showing top 5 rows\n",
      "\n"
     ]
    }
   ],
   "source": [
    "df.show(5)"
   ]
  },
  {
   "cell_type": "code",
   "execution_count": 144,
   "id": "72eab372",
   "metadata": {},
   "outputs": [],
   "source": [
    "df = df.union(df2)\n",
    "df = df.union(df3)\n",
    "df = df.union(df4)"
   ]
  },
  {
   "cell_type": "code",
   "execution_count": 145,
   "id": "42979ded",
   "metadata": {},
   "outputs": [],
   "source": [
    "df = df.drop(\"Div\")\n",
    "df = df.select(\"Date\", \"Time\", \"HomeTeam\", \"AwayTeam\", \"FTHG\", \"FTAG\", \"FTR\", \"HTHG\", \"HTAG\", \"HTR\", \"Referee\", \"HS\", \"AS\", \"HST\", \"AST\", \"HF\", \"AF\", \"HC\", \"AC\", \"HY\", \"AY\", \"HR\", \"AR\")"
   ]
  },
  {
   "cell_type": "code",
   "execution_count": 146,
   "id": "fa4856b8",
   "metadata": {},
   "outputs": [],
   "source": [
    "df = df.withColumn(\"corrected_date\", expr(\"concat('20', substr(date, 9, 2), '-', substr(date, 4, 2), '-', substr(date, 1, 2))\"))\n",
    "df = df.withColumn(\"corrected_date_type\", to_date(col(\"corrected_date\")))\n",
    "df = df.withColumn(\"updated_datetime\", (to_timestamp(concat_ws(' ', date_format(col(\"corrected_date_type\"), 'yyyy-MM-dd'), date_format(col(\"Time\"), 'HH:mm:ss')))))\n",
    "df = df.drop(\"Date\", \"Time\", \"corrected_date\")\n",
    "df = df.withColumnRenamed(\"corrected_date_type\", \"Date\")\n",
    "df = df.withColumnRenamed(\"updated_datetime\", \"Time\")"
   ]
  },
  {
   "cell_type": "code",
   "execution_count": 147,
   "id": "61554ac6",
   "metadata": {},
   "outputs": [
    {
     "name": "stdout",
     "output_type": "stream",
     "text": [
      "+----------------+----------------+----+----+---+----+----+---+----------+---+---+---+---+---+---+---+---+---+---+---+---+----------+-------------------+------------+------------+\n",
      "|        HomeTeam|        AwayTeam|FTHG|FTAG|FTR|HTHG|HTAG|HTR|   Referee| HS| AS|HST|AST| HF| AF| HC| AC| HY| AY| HR| AR|      Date|               Time|HomeTeamForm|AwayTeamForm|\n",
      "+----------------+----------------+----+----+---+----+----+---+----------+---+---+---+---+---+---+---+---+---+---+---+---+----------+-------------------+------------+------------+\n",
      "|          Fulham|         Arsenal|   0|   3|  A|   0|   1|  A|C Kavanagh|  5| 13|  2|  6| 12| 12|  2|  3|  2|  2|  0|  0|2020-09-12|2020-09-12 12:30:00|           L|           L|\n",
      "|  Crystal Palace|     Southampton|   1|   0|  H|   1|   0|  H|    J Moss|  5|  9|  3|  5| 14| 11|  7|  3|  2|  1|  0|  0|2020-09-12|2020-09-12 15:00:00|           W|           W|\n",
      "|       Liverpool|           Leeds|   4|   3|  H|   3|   2|  H|  M Oliver| 22|  6|  6|  3|  9|  6|  9|  0|  1|  0|  0|  0|2020-09-12|2020-09-12 17:30:00|           W|           W|\n",
      "|        West Ham|       Newcastle|   0|   2|  A|   0|   0|  D| S Attwell| 15| 15|  3|  2| 13|  7|  8|  7|  2|  2|  0|  0|2020-09-12|2020-09-12 20:00:00|           L|           L|\n",
      "|       West Brom|       Leicester|   0|   3|  A|   0|   0|  D|  A Taylor|  7| 13|  1|  7| 12|  9|  2|  5|  1|  1|  0|  0|2020-09-13|2020-09-13 14:00:00|           L|           L|\n",
      "|       Tottenham|         Everton|   0|   1|  A|   0|   0|  D|M Atkinson|  9| 15|  5|  4| 15|  7|  5|  3|  1|  0|  0|  0|2020-09-13|2020-09-13 16:30:00|           L|           L|\n",
      "|Sheffield United|          Wolves|   0|   2|  A|   0|   2|  A|    M Dean|  9| 11|  2|  4| 13|  7| 12|  5|  2|  1|  0|  0|2020-09-14|2020-09-14 18:00:00|           L|           L|\n",
      "|        Brighton|         Chelsea|   1|   3|  A|   0|   1|  A|  C Pawson| 13| 10|  3|  5|  8| 13|  4|  3|  1|  0|  0|  0|2020-09-14|2020-09-14 20:15:00|           L|           L|\n",
      "|         Everton|       West Brom|   5|   2|  H|   2|   1|  H|    M Dean| 17|  6|  7|  4|  9| 11| 11|  1|  1|  0|  0|  1|2020-09-19|2020-09-19 12:30:00|          LW|          LW|\n",
      "|           Leeds|          Fulham|   4|   3|  H|   2|   1|  H|  A Taylor| 10| 14|  7|  6| 13| 18|  5|  3|  1|  2|  0|  0|2020-09-19|2020-09-19 15:00:00|          WW|          LW|\n",
      "|      Man United|  Crystal Palace|   1|   3|  A|   0|   1|  A|M Atkinson| 13| 14|  4|  5| 13| 10|  9|  3|  2|  1|  0|  0|2020-09-19|2020-09-19 17:30:00|           L|          WL|\n",
      "|         Arsenal|        West Ham|   2|   1|  H|   1|   1|  D|  M Oliver|  7| 14|  3|  3| 11| 13|  7|  5|  0|  1|  0|  0|2020-09-19|2020-09-19 20:00:00|          LW|          LW|\n",
      "|     Southampton|       Tottenham|   2|   5|  A|   1|   1|  D|   D Coote| 14|  9|  7|  6| 16| 18|  3|  2|  4|  3|  0|  0|2020-09-20|2020-09-20 12:00:00|          WL|          LL|\n",
      "|       Newcastle|        Brighton|   0|   3|  A|   0|   2|  A|  K Friend|  6| 13|  0|  6| 16| 15|  7|  1|  3|  0|  0|  1|2020-09-20|2020-09-20 14:00:00|          LL|          LL|\n",
      "|         Chelsea|       Liverpool|   0|   2|  A|   0|   0|  D| P Tierney|  5| 18|  3|  6| 10|  6|  1| 11|  0|  0|  1|  0|2020-09-20|2020-09-20 16:30:00|          LL|          WL|\n",
      "|       Leicester|         Burnley|   4|   2|  H|   1|   1|  D|   L Mason| 14| 16|  6|  5| 11| 13| 15|  4|  1|  2|  0|  0|2020-09-20|2020-09-20 19:00:00|          LW|           W|\n",
      "|     Aston Villa|Sheffield United|   1|   0|  H|   0|   0|  D|   G Scott| 18|  4|  2|  1| 12| 13| 10|  4|  3|  1|  0|  1|2020-09-21|2020-09-21 18:00:00|           W|          LW|\n",
      "|          Wolves|        Man City|   1|   3|  A|   0|   2|  A|A Marriner| 10| 14|  1|  9|  6|  8|  4|  6|  0|  3|  0|  0|2020-09-21|2020-09-21 20:15:00|          LL|           L|\n",
      "|        Brighton|      Man United|   2|   3|  A|   1|   1|  D|C Kavanagh| 18|  7|  5|  3| 18| 16|  7|  1|  4|  2|  0|  0|2020-09-26|2020-09-26 12:30:00|         LLL|          LL|\n",
      "|  Crystal Palace|         Everton|   1|   2|  A|   1|   2|  A|  K Friend|  8| 10|  1|  5| 16| 15|  7|  6|  3|  1|  0|  0|2020-09-26|2020-09-26 15:00:00|         WLL|         LWL|\n",
      "+----------------+----------------+----+----+---+----+----+---+----------+---+---+---+---+---+---+---+---+---+---+---+---+----------+-------------------+------------+------------+\n",
      "only showing top 20 rows\n",
      "\n"
     ]
    }
   ],
   "source": [
    "dfHome = df.select(col(\"Time\"), col(\"HomeTeam\").alias(\"Team\"), col(\"FTR\"))\n",
    "dfAway = df.select(col(\"Time\"), col(\"AwayTeam\").alias(\"Team\"), col(\"FTR\"))\n",
    "\n",
    "dfHome = dfHome.withColumn(\"Result\", when(dfHome.FTR == \"H\", \"W\")\n",
    "                           .when(dfHome.FTR == \"A\", \"L\")\n",
    "                           .when(dfHome.FTR == \"D\", \"D\"))\n",
    "\n",
    "dfAway = dfAway.withColumn(\"Result\", when(dfAway.FTR == \"H\", \"W\")\n",
    "                           .when(dfAway.FTR == \"A\", \"L\")\n",
    "                           .when(dfAway.FTR == \"D\", \"D\"))\n",
    "\n",
    "dfForm = dfHome.union(dfAway).orderBy(\"Time\")\n",
    "dfForm = dfForm.select(\"Time\", \"Team\", \"Result\")\n",
    "\n",
    "#Last 5 game results for the home team\n",
    "window_spec = Window.partitionBy(\"Team\").orderBy(\"Time\").rowsBetween(Window.unboundedPreceding, Window.currentRow)\n",
    "\n",
    "dfForm = dfForm.withColumn(\"results_list\", collect_list(\"Result\").over(window_spec))\n",
    "\n",
    "dfForm.createOrReplaceTempView(\"games\")\n",
    "query = \"\"\"\n",
    "SELECT *,\n",
    "    CASE \n",
    "        WHEN size(results_list) >= 5 THEN concat_ws('', slice(results_list, size(results_list) - 4, 5))\n",
    "        ELSE concat_ws('', results_list)\n",
    "    END AS TeamForm\n",
    "FROM games\n",
    "\"\"\"\n",
    "\n",
    "dfForm = spark.sql(query)\n",
    "dfForm = dfForm.drop(\"results_list\")\n",
    "\n",
    "home_form_df = dfForm.withColumnRenamed(\"Team\", \"HomeTeam\").withColumnRenamed(\"TeamForm\", \"HomeTeamForm\").withColumnRenamed(\"Result\", \"FTR1\").withColumnRenamed(\"Time\", \"Time1\")\n",
    "away_form_df = dfForm.withColumnRenamed(\"Team\", \"AwayTeam\").withColumnRenamed(\"TeamForm\", \"AwayTeamForm\").withColumnRenamed(\"Result\", \"FTR1\").withColumnRenamed(\"Time\", \"Time1\")\n",
    "\n",
    "# Join on HomeTeam and Time\n",
    "df = df.join(home_form_df, on=[df.HomeTeam == home_form_df.HomeTeam, df.Time == home_form_df.Time1], how=\"left\").drop(home_form_df.HomeTeam).drop(home_form_df.Time1).drop(home_form_df.FTR1)\n",
    "\n",
    "# Join on AwayTeam and Time\n",
    "df = df.join(away_form_df, on=[df.AwayTeam == away_form_df.AwayTeam, df.Time == away_form_df.Time1], how=\"left\").drop(away_form_df.AwayTeam).drop(away_form_df.Time1).drop(away_form_df.FTR1)\n",
    "\n",
    "\n",
    "\n",
    "df.orderBy([\"Time\"], ascending=True).show()"
   ]
  },
  {
   "cell_type": "code",
   "execution_count": 148,
   "id": "4284cd05",
   "metadata": {},
   "outputs": [
    {
     "name": "stdout",
     "output_type": "stream",
     "text": [
      "+------------+-----+\n",
      "|     Referee|count|\n",
      "+------------+-----+\n",
      "|    A Taylor|  113|\n",
      "|    M Oliver|  108|\n",
      "|   P Tierney|  103|\n",
      "|    C Pawson|   89|\n",
      "|   S Attwell|   85|\n",
      "|    S Hooper|   81|\n",
      "|    A Madley|   79|\n",
      "|     D Coote|   78|\n",
      "|  C Kavanagh|   73|\n",
      "|     R Jones|   69|\n",
      "|    P Bankes|   59|\n",
      "|  A Marriner|   57|\n",
      "|   D England|   56|\n",
      "|  M Atkinson|   52|\n",
      "|      M Dean|   51|\n",
      "|      J Moss|   49|\n",
      "|   J Gillett|   46|\n",
      "|    J Brooks|   45|\n",
      "|    K Friend|   43|\n",
      "|     G Scott|   37|\n",
      "| M Salisbury|   32|\n",
      "|  T Robinson|   23|\n",
      "|   T Bramall|   19|\n",
      "|T Harrington|   19|\n",
      "|   S Barrott|   15|\n",
      "|     L Mason|   11|\n",
      "|      D Bond|    9|\n",
      "|     J Smith|    5|\n",
      "|   S Allison|    3|\n",
      "|    R Madley|    2|\n",
      "|     R Welch|    2|\n",
      "|     L Smith|    2|\n",
      "|   M Donohue|    2|\n",
      "|  J Gillett |    1|\n",
      "|     S Singh|    1|\n",
      "|      A Moss|    1|\n",
      "+------------+-----+\n",
      "\n"
     ]
    }
   ],
   "source": [
    "df.groupBy(\"Referee\").count().orderBy(\"count\", ascending=False).show(300)"
   ]
  },
  {
   "cell_type": "code",
   "execution_count": null,
   "id": "2e7da5f7",
   "metadata": {},
   "outputs": [],
   "source": [
    "\n",
    "\n"
   ]
  },
  {
   "cell_type": "code",
   "execution_count": 149,
   "id": "db25ef1b",
   "metadata": {},
   "outputs": [
    {
     "data": {
      "text/plain": [
       "[Row(HomeTeam='Burnley', AwayTeam='Man City', FTHG=0, FTAG=3, FTR='A', HTHG=0, HTAG=2, HTR='A', Referee='C Pawson', HS=6, AS=17, HST=1, AST=8, HF=11, AF=8, HC=6, AC=5, HY=0, AY=0, HR=1, AR=0, Date=datetime.date(2023, 8, 11), Time=datetime.datetime(2023, 8, 11, 20, 0), HomeTeamForm='LWDLL', AwayTeamForm='LWDWL'),\n",
       " Row(HomeTeam='Arsenal', AwayTeam=\"Nott'm Forest\", FTHG=2, FTAG=1, FTR='H', HTHG=2, HTAG=0, HTR='H', Referee='M Oliver', HS=15, AS=6, HST=7, AST=2, HF=12, AF=12, HC=8, AC=3, HY=2, AY=2, HR=0, AR=0, Date=datetime.date(2023, 8, 12), Time=datetime.datetime(2023, 8, 12, 12, 30), HomeTeamForm='LLWWW', AwayTeamForm='WDWDW'),\n",
       " Row(HomeTeam='Bournemouth', AwayTeam='West Ham', FTHG=1, FTAG=1, FTR='D', HTHG=0, HTAG=0, HTR='D', Referee='P Bankes', HS=14, AS=16, HST=5, AST=3, HF=9, AF=14, HC=10, AC=4, HY=1, AY=4, HR=0, AR=0, Date=datetime.date(2023, 8, 12), Time=datetime.datetime(2023, 8, 12, 15, 0), HomeTeamForm='LWLWD', AwayTeamForm='WWWWD'),\n",
       " Row(HomeTeam='Brighton', AwayTeam='Luton', FTHG=4, FTAG=1, FTR='H', HTHG=1, HTAG=0, HTR='H', Referee='D Coote', HS=27, AS=9, HST=12, AST=3, HF=11, AF=12, HC=6, AC=7, HY=2, AY=2, HR=0, AR=0, Date=datetime.date(2023, 8, 12), Time=datetime.datetime(2023, 8, 12, 15, 0), HomeTeamForm='WWDWW', AwayTeamForm='W'),\n",
       " Row(HomeTeam='Everton', AwayTeam='Fulham', FTHG=0, FTAG=1, FTR='A', HTHG=0, HTAG=0, HTR='D', Referee='S Attwell', HS=19, AS=9, HST=9, AST=2, HF=12, AF=6, HC=10, AC=4, HY=0, AY=2, HR=0, AR=0, Date=datetime.date(2023, 8, 12), Time=datetime.datetime(2023, 8, 12, 15, 0), HomeTeamForm='LLDWL', AwayTeamForm='WLDWL')]"
      ]
     },
     "execution_count": 149,
     "metadata": {},
     "output_type": "execute_result"
    }
   ],
   "source": [
    "df.head(5)"
   ]
  }
 ],
 "metadata": {
  "kernelspec": {
   "display_name": "Python 3 (ipykernel)",
   "language": "python",
   "name": "python3"
  },
  "language_info": {
   "codemirror_mode": {
    "name": "ipython",
    "version": 3
   },
   "file_extension": ".py",
   "mimetype": "text/x-python",
   "name": "python",
   "nbconvert_exporter": "python",
   "pygments_lexer": "ipython3",
   "version": "3.12.3"
  }
 },
 "nbformat": 4,
 "nbformat_minor": 5
}
