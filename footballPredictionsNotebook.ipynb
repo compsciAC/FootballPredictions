{
 "cells": [
  {
   "cell_type": "code",
   "execution_count": 234,
   "id": "450dae1d",
   "metadata": {},
   "outputs": [
    {
     "ename": "ImportError",
     "evalue": "cannot import name 'join' from 'pyspark.sql.functions' (c:\\Python312\\Lib\\site-packages\\pyspark\\sql\\functions.py)",
     "output_type": "error",
     "traceback": [
      "\u001b[1;31m---------------------------------------------------------------------------\u001b[0m",
      "\u001b[1;31mImportError\u001b[0m                               Traceback (most recent call last)",
      "Cell \u001b[1;32mIn[234], line 2\u001b[0m\n\u001b[0;32m      1\u001b[0m \u001b[38;5;28;01mfrom\u001b[39;00m \u001b[38;5;21;01mpyspark\u001b[39;00m\u001b[38;5;21;01m.\u001b[39;00m\u001b[38;5;21;01msql\u001b[39;00m \u001b[38;5;28;01mimport\u001b[39;00m SparkSession\n\u001b[1;32m----> 2\u001b[0m \u001b[38;5;28;01mfrom\u001b[39;00m \u001b[38;5;21;01mpyspark\u001b[39;00m\u001b[38;5;21;01m.\u001b[39;00m\u001b[38;5;21;01msql\u001b[39;00m\u001b[38;5;21;01m.\u001b[39;00m\u001b[38;5;21;01mfunctions\u001b[39;00m \u001b[38;5;28;01mimport\u001b[39;00m col, lag, date_format, concat_ws, to_timestamp, to_date, expr, StringType, collect_list, udf, join\n\u001b[0;32m      3\u001b[0m \u001b[38;5;28;01mfrom\u001b[39;00m \u001b[38;5;21;01mpyspark\u001b[39;00m\u001b[38;5;21;01m.\u001b[39;00m\u001b[38;5;21;01msql\u001b[39;00m\u001b[38;5;21;01m.\u001b[39;00m\u001b[38;5;21;01mwindow\u001b[39;00m \u001b[38;5;28;01mimport\u001b[39;00m Window\n\u001b[0;32m      5\u001b[0m spark \u001b[38;5;241m=\u001b[39m SparkSession\u001b[38;5;241m.\u001b[39mbuilder\u001b[38;5;241m.\u001b[39mappName(\u001b[38;5;124m\"\u001b[39m\u001b[38;5;124mFB\u001b[39m\u001b[38;5;124m\"\u001b[39m)\u001b[38;5;241m.\u001b[39mgetOrCreate()\n",
      "\u001b[1;31mImportError\u001b[0m: cannot import name 'join' from 'pyspark.sql.functions' (c:\\Python312\\Lib\\site-packages\\pyspark\\sql\\functions.py)"
     ]
    }
   ],
   "source": [
    "from pyspark.sql import SparkSession\n",
    "from pyspark.sql.functions import col, lag, date_format, concat_ws, to_timestamp, to_date, expr, StringType, collect_list, udf, join\n",
    "from pyspark.sql.window import Window\n",
    "\n",
    "spark = SparkSession.builder.appName(\"FB\").getOrCreate()\n",
    "\n",
    "df = spark.read.csv(\"C:/Users/ThinkPad/GitProjects/FootballPredictions/E0.csv\", header=True, inferSchema=True)\n",
    "df2 = spark.read.csv(\"C:/Users/ThinkPad/GitProjects/FootballPredictions/E0 (1).csv\", header=True, inferSchema=True)\n",
    "df3 = spark.read.csv(\"C:/Users/ThinkPad/GitProjects/FootballPredictions/E0 (2).csv\", header=True, inferSchema=True)\n",
    "df4 = spark.read.csv(\"C:/Users/ThinkPad/GitProjects/FootballPredictions/E0 (3).csv\", header=True, inferSchema=True)\n"
   ]
  },
  {
   "cell_type": "code",
   "execution_count": null,
   "id": "0c5eb75c",
   "metadata": {},
   "outputs": [
    {
     "name": "stdout",
     "output_type": "stream",
     "text": [
      "+---+----------+-------------------+-----------+-------------+----+----+---+----+----+---+---------+---+---+---+---+---+---+---+---+---+---+---+---+-----+-----+-----+----+----+----+----+----+----+----+----+-----+----+---+----+----+----+----+----+----+----+----+----+-----+--------+--------+-----+-----+-------+-------+-------+-------+-----+-------+-------+----+----+------+------+------+------+------+------+------+----+----+----+----+----+----+----+----+-----+----+----+----+----+----+----+-----+-----+-----+-----+-----+-----+---------+---------+------+------+--------+--------+--------+--------+-----+--------+--------+-----+-----+-------+-------+-------+-------+\n",
      "|Div|      Date|               Time|   HomeTeam|     AwayTeam|FTHG|FTAG|FTR|HTHG|HTAG|HTR|  Referee| HS| AS|HST|AST| HF| AF| HC| AC| HY| AY| HR| AR|B365H|B365D|B365A| BWH| BWD| BWA| IWH| IWD| IWA| PSH| PSD|  PSA| WHH|WHD| WHA| VCH| VCD| VCA|MaxH|MaxD|MaxA|AvgH|AvgD| AvgA|B365>2.5|B365<2.5|P>2.5|P<2.5|Max>2.5|Max<2.5|Avg>2.5|Avg<2.5|  AHh|B365AHH|B365AHA|PAHH|PAHA|MaxAHH|MaxAHA|AvgAHH|AvgAHA|B365CH|B365CD|B365CA|BWCH|BWCD|BWCA|IWCH|IWCD|IWCA|PSCH|PSCD| PSCA|WHCH|WHCD|WHCA|VCCH|VCCD|VCCA|MaxCH|MaxCD|MaxCA|AvgCH|AvgCD|AvgCA|B365C>2.5|B365C<2.5|PC>2.5|PC<2.5|MaxC>2.5|MaxC<2.5|AvgC>2.5|AvgC<2.5| AHCh|B365CAHH|B365CAHA|PCAHH|PCAHA|MaxCAHH|MaxCAHA|AvgCAHH|AvgCAHA|\n",
      "+---+----------+-------------------+-----------+-------------+----+----+---+----+----+---+---------+---+---+---+---+---+---+---+---+---+---+---+---+-----+-----+-----+----+----+----+----+----+----+----+----+-----+----+---+----+----+----+----+----+----+----+----+----+-----+--------+--------+-----+-----+-------+-------+-------+-------+-----+-------+-------+----+----+------+------+------+------+------+------+------+----+----+----+----+----+----+----+----+-----+----+----+----+----+----+----+-----+-----+-----+-----+-----+-----+---------+---------+------+------+--------+--------+--------+--------+-----+--------+--------+-----+-----+-------+-------+-------+-------+\n",
      "| E0|11/08/2023|2024-07-24 20:00:00|    Burnley|     Man City|   0|   3|  A|   0|   2|  A| C Pawson|  6| 17|  1|  8| 11|  8|  6|  5|  0|  0|  1|  0|  8.0|  5.5| 1.33|8.75|5.25|1.34| 8.0| 5.5|1.35|8.58|5.51| 1.37| 8.0|5.0|1.25| 9.5|5.25|1.33| 9.5|5.68|1.39|9.02|5.35| 1.35|    1.67|     2.2| 1.68| 2.29|   1.71|    2.4|   1.65|   2.27|  1.5|   1.86|   2.07|1.86|2.07|  1.93|  2.09|  1.85|  2.03|   9.0|  5.25|  1.33|8.75|5.25|1.33| 8.5|5.25|1.35|9.62|5.81| 1.33| 7.5| 4.6|1.29|10.5|5.25| 1.3| 10.5| 5.81| 1.36| 9.27| 5.45| 1.33|     1.67|      2.2|  1.65|  2.35|    1.73|    2.45|    1.64|    2.28|  1.5|    1.95|    1.98| 1.95| 1.97|   NULL|   NULL|   1.92|   1.95|\n",
      "| E0|12/08/2023|2024-07-24 12:30:00|    Arsenal|Nott'm Forest|   2|   1|  H|   2|   0|  H| M Oliver| 15|  6|  7|  2| 12| 12|  8|  3|  2|  2|  0|  0| 1.18|  7.0| 15.0|1.17| 7.5|15.5| 1.2|7.25|14.0|1.18|7.86|15.67|1.12|6.5|12.0|1.14| 7.5|17.0|1.21| 8.5|17.5|1.18|7.64|15.67|    1.44|    2.75| 1.42| 2.93|   1.45|   2.98|   1.42|   2.85| -2.0|   1.88|   2.02|1.88|2.01|  1.91|  2.06|  1.87|  1.99|  1.18|   7.0|  15.0|1.18| 7.0|14.5| 1.2| 7.0|14.0|1.19| 8.0| 16.0|1.12| 6.5|12.0|1.22| 7.0|13.0| 1.22|  8.4| 19.0| 1.19| 7.43|15.98|      1.5|     2.63|  1.49|  2.65|    1.52|    2.79|    1.49|    2.63| -2.0|    1.95|    1.98| 1.93| 1.97|   2.01|   2.09|   1.95|   1.92|\n",
      "| E0|12/08/2023|2024-07-24 15:00:00|Bournemouth|     West Ham|   1|   1|  D|   0|   0|  D| P Bankes| 14| 16|  5|  3|  9| 14| 10|  4|  1|  4|  0|  0|  2.7|  3.4| 2.55|2.65| 3.4|2.55| 2.7|3.45| 2.6| 2.7|3.47| 2.71|2.62|3.2| 2.3|2.63| 3.3|2.63| 2.8|3.62|2.75|2.69|3.44| 2.64|     1.9|     2.0|  1.9| 1.99|   1.95|   2.03|   1.88|   1.94|  0.0|   1.95|   1.95|1.95|1.95|  1.98|  1.99|  1.94|  1.92|  2.63|   3.5|   2.6|2.65| 3.5| 2.5| 2.6| 3.5| 2.6|2.75| 3.6| 2.63| 2.5| 3.2|2.45|2.63| 3.5| 2.6| 2.88| 3.67|  2.7|  2.7| 3.53| 2.59|     1.73|      2.1|  1.76|  2.18|    1.83|    2.23|    1.74|    2.12|  0.0|    2.02|    1.91| 2.01| 1.92|   2.06|   1.96|   1.96|   1.91|\n",
      "| E0|12/08/2023|2024-07-24 15:00:00|   Brighton|        Luton|   4|   1|  H|   1|   0|  H|  D Coote| 27|  9| 12|  3| 11| 12|  6|  7|  2|  2|  0|  0| 1.33|  5.5|  9.0|1.32| 5.5| 9.0|1.35|5.25| 8.5|1.33|5.65| 9.61|1.25|4.6| 8.5|1.29|5.25|10.0|1.36| 6.0|10.5|1.33|5.52| 9.61|    1.62|     2.3| 1.62|  2.4|   1.65|   2.45|   1.61|   2.34| -1.5|   1.95|   1.95|1.95|1.95|  1.98|   2.0|  1.93|  1.93|  1.25|   6.5|  11.0|1.26| 6.0|11.0| 1.3| 5.5| 9.5|1.27|6.36|11.36|1.22| 5.5| 9.0|1.25|5.75|13.0| 1.34| 6.59| 13.0| 1.28| 5.99|10.91|     1.53|      2.5|  1.56|  2.54|    1.62|    2.66|    1.55|    2.48|-1.75|    2.01|    1.92|  2.0| 1.91|   2.14|   1.93|    2.0|   1.86|\n",
      "| E0|12/08/2023|2024-07-24 15:00:00|    Everton|       Fulham|   0|   1|  A|   0|   0|  D|S Attwell| 19|  9|  9|  2| 12|  6| 10|  4|  0|  2|  0|  0|  2.2|  3.4|  3.3| 2.2| 3.4|3.25|2.25| 3.4|3.25|2.27|3.45| 3.35| 2.1|3.2| 3.0| 2.2| 3.3|3.25| 2.3|3.57|3.45|2.24|3.43|  3.3|    2.01|    1.89|  2.0| 1.89|   2.04|   1.92|   1.97|   1.86|-0.25|   1.93|   1.97|1.95|1.95|  1.97|   2.0|  1.92|  1.93|   2.3|   3.2|   3.2|2.35| 3.2| 3.1|2.35|3.25|3.15|2.39|3.32|  3.3| 2.1| 3.2| 3.0|2.38| 3.2| 3.2| 2.42| 3.42| 3.56| 2.32| 3.28| 3.27|      2.1|     1.73|  2.23|  1.72|    2.26|    1.81|    2.17|    1.71|-0.25|    2.06|    1.87| 2.04| 1.88|   2.08|   1.99|   1.98|   1.88|\n",
      "+---+----------+-------------------+-----------+-------------+----+----+---+----+----+---+---------+---+---+---+---+---+---+---+---+---+---+---+---+-----+-----+-----+----+----+----+----+----+----+----+----+-----+----+---+----+----+----+----+----+----+----+----+----+-----+--------+--------+-----+-----+-------+-------+-------+-------+-----+-------+-------+----+----+------+------+------+------+------+------+------+----+----+----+----+----+----+----+----+-----+----+----+----+----+----+----+-----+-----+-----+-----+-----+-----+---------+---------+------+------+--------+--------+--------+--------+-----+--------+--------+-----+-----+-------+-------+-------+-------+\n",
      "only showing top 5 rows\n",
      "\n"
     ]
    }
   ],
   "source": [
    "df.show(5)"
   ]
  },
  {
   "cell_type": "code",
   "execution_count": null,
   "id": "72eab372",
   "metadata": {},
   "outputs": [],
   "source": [
    "df = df.union(df2)\n",
    "df = df.union(df3)\n",
    "df = df.union(df4)"
   ]
  },
  {
   "cell_type": "code",
   "execution_count": null,
   "id": "42979ded",
   "metadata": {},
   "outputs": [],
   "source": [
    "df = df.drop(\"Div\")\n",
    "df = df.select(\"Date\", \"Time\", \"HomeTeam\", \"AwayTeam\", \"FTHG\", \"FTAG\", \"FTR\", \"HTHG\", \"HTAG\", \"HTR\", \"Referee\", \"HS\", \"AS\", \"HST\", \"AST\", \"HF\", \"AF\", \"HC\", \"AC\", \"HY\", \"AY\", \"HR\", \"AR\")"
   ]
  },
  {
   "cell_type": "code",
   "execution_count": null,
   "id": "61554ac6",
   "metadata": {},
   "outputs": [
    {
     "ename": "AnalysisException",
     "evalue": "[MISSING_ATTRIBUTES.RESOLVED_ATTRIBUTE_MISSING_FROM_INPUT] Resolved attribute(s) \"Team\" missing from \"Date\", \"Time\", \"HomeTeam\", \"AwayTeam\", \"FTHG\", \"FTAG\", \"FTR\", \"HTHG\", \"HTAG\", \"HTR\", \"Referee\", \"HS\", \"AS\", \"HST\", \"AST\", \"HF\", \"AF\", \"HC\", \"AC\", \"HY\", \"AY\", \"HR\", \"AR\", \"Time\", \"HomeTeam\", \"FTR\", \"HomeTeamForm\" in operator !Join RightOuter, ((HomeTeam#89101 = Team#90975) AND (Time#91441 = Time#91441)). ;\n!Join RightOuter, ((HomeTeam#89101 = Team#90975) AND (Time#91441 = Time#91441))\n:- Project [Date#89099, Time#89100, HomeTeam#89101, AwayTeam#89102, FTHG#89103, FTAG#89104, FTR#89105, HTHG#89106, HTAG#89107, HTR#89108, Referee#89109, HS#89110, AS#89111, HST#89112, AST#89113, HF#89114, AF#89115, HC#89116, AC#89117, HY#89118, AY#89119, HR#89120, AR#89121]\n:  +- Project [Date#89099, Time#89100, HomeTeam#89101, AwayTeam#89102, FTHG#89103, FTAG#89104, FTR#89105, HTHG#89106, HTAG#89107, HTR#89108, Referee#89109, HS#89110, AS#89111, HST#89112, AST#89113, HF#89114, AF#89115, HC#89116, AC#89117, HY#89118, AY#89119, HR#89120, AR#89121, B365H#89122, ... 81 more fields]\n:     +- Union false, false\n:        :- Relation [Div#89098,Date#89099,Time#89100,HomeTeam#89101,AwayTeam#89102,FTHG#89103,FTAG#89104,FTR#89105,HTHG#89106,HTAG#89107,HTR#89108,Referee#89109,HS#89110,AS#89111,HST#89112,AST#89113,HF#89114,AF#89115,HC#89116,AC#89117,HY#89118,AY#89119,HR#89120,AR#89121,... 82 more fields] csv\n:        :- Relation [Div#89327,Date#89328,Time#89329,HomeTeam#89330,AwayTeam#89331,FTHG#89332,FTAG#89333,FTR#89334,HTHG#89335,HTAG#89336,HTR#89337,Referee#89338,HS#89339,AS#89340,HST#89341,AST#89342,HF#89343,AF#89344,HC#89345,AC#89346,HY#89347,AY#89348,HR#89349,AR#89350,... 82 more fields] csv\n:        :- Relation [Div#89556,Date#89557,Time#89558,HomeTeam#89559,AwayTeam#89560,FTHG#89561,FTAG#89562,FTR#89563,HTHG#89564,HTAG#89565,HTR#89566,Referee#89567,HS#89568,AS#89569,HST#89570,AST#89571,HF#89572,AF#89573,HC#89574,AC#89575,HY#89576,AY#89577,HR#89578,AR#89579,... 82 more fields] csv\n:        +- Relation [Div#89785,Date#89786,Time#89787,HomeTeam#89788,AwayTeam#89789,FTHG#89790,FTAG#89791,FTR#89792,HTHG#89793,HTAG#89794,HTR#89795,Referee#89796,HS#89797,AS#89798,HST#89799,AST#89800,HF#89801,AF#89802,HC#89803,AC#89804,HY#89805,AY#89806,HR#89807,AR#89808,... 82 more fields] csv\n+- Project [Time#91441, HomeTeam#91429, FTR#91446, TeamForm#91419 AS HomeTeamForm#91434]\n   +- Project [Time#91441, Team#90975 AS HomeTeam#91429, FTR#91446, TeamForm#91419]\n      +- Project [Time#91441, Team#90975, FTR#91446, TeamForm#91419]\n         +- Project [Time#91441, Team#90975, FTR#91446, results_list#91414, CASE WHEN (size(results_list#91414, true) >= 5) THEN concat_ws(, slice(results_list#91414, (size(results_list#91414, true) - 4), 5)) ELSE concat_ws(, results_list#91414) END AS TeamForm#91419]\n            +- SubqueryAlias games\n               +- View (`games`, [Time#91441,Team#90975,FTR#91446,results_list#91414])\n                  +- Project [Time#91441, Team#90975, FTR#91446, results_list#91414]\n                     +- Project [Time#91441, Team#90975, FTR#91446, results_list#91414, results_list#91414]\n                        +- Window [collect_list(FTR#91446, 0, 0) windowspecdefinition(Team#90975, Time#91441 ASC NULLS FIRST, specifiedwindowframe(RowFrame, unboundedpreceding$(), currentrow$())) AS results_list#91414], [Team#90975], [Time#91441 ASC NULLS FIRST]\n                           +- Project [Time#91441, Team#90975, FTR#91446]\n                              +- Project [Time#91441, Team#90975, FTR#91446]\n                                 +- Sort [Time#91441 ASC NULLS FIRST], true\n                                    +- Union false, false\n                                       :- Project [Time#91441, HomeTeam#91442 AS Team#90975, FTR#91446]\n                                       :  +- Project [Date#91440, Time#91441, HomeTeam#91442, AwayTeam#91443, FTHG#91444, FTAG#91445, FTR#91446, HTHG#91447, HTAG#91448, HTR#91449, Referee#91450, HS#91451, AS#91452, HST#91453, AST#91454, HF#91455, AF#91456, HC#91457, AC#91458, HY#91459, AY#91460, HR#91461, AR#91462]\n                                       :     +- Project [Date#91440, Time#91441, HomeTeam#91442, AwayTeam#91443, FTHG#91444, FTAG#91445, FTR#91446, HTHG#91447, HTAG#91448, HTR#91449, Referee#91450, HS#91451, AS#91452, HST#91453, AST#91454, HF#91455, AF#91456, HC#91457, AC#91458, HY#91459, AY#91460, HR#91461, AR#91462, B365H#91463, ... 81 more fields]\n                                       :        +- Union false, false\n                                       :           :- Relation [Div#91439,Date#91440,Time#91441,HomeTeam#91442,AwayTeam#91443,FTHG#91444,FTAG#91445,FTR#91446,HTHG#91447,HTAG#91448,HTR#91449,Referee#91450,HS#91451,AS#91452,HST#91453,AST#91454,HF#91455,AF#91456,HC#91457,AC#91458,HY#91459,AY#91460,HR#91461,AR#91462,... 82 more fields] csv\n                                       :           :- Relation [Div#91545,Date#91546,Time#91547,HomeTeam#91548,AwayTeam#91549,FTHG#91550,FTAG#91551,FTR#91552,HTHG#91553,HTAG#91554,HTR#91555,Referee#91556,HS#91557,AS#91558,HST#91559,AST#91560,HF#91561,AF#91562,HC#91563,AC#91564,HY#91565,AY#91566,HR#91567,AR#91568,... 82 more fields] csv\n                                       :           :- Relation [Div#91651,Date#91652,Time#91653,HomeTeam#91654,AwayTeam#91655,FTHG#91656,FTAG#91657,FTR#91658,HTHG#91659,HTAG#91660,HTR#91661,Referee#91662,HS#91663,AS#91664,HST#91665,AST#91666,HF#91667,AF#91668,HC#91669,AC#91670,HY#91671,AY#91672,HR#91673,AR#91674,... 82 more fields] csv\n                                       :           +- Relation [Div#91757,Date#91758,Time#91759,HomeTeam#91760,AwayTeam#91761,FTHG#91762,FTAG#91763,FTR#91764,HTHG#91765,HTAG#91766,HTR#91767,Referee#91768,HS#91769,AS#91770,HST#91771,AST#91772,HF#91773,AF#91774,HC#91775,AC#91776,HY#91777,AY#91778,HR#91779,AR#91780,... 82 more fields] csv\n                                       +- Project [Time#90985, AwayTeam#90987 AS Team#90979, FTR#90990]\n                                          +- Project [Date#90984, Time#90985, HomeTeam#90986, AwayTeam#90987, FTHG#90988, FTAG#90989, FTR#90990, HTHG#90991, HTAG#90992, HTR#90993, Referee#90994, HS#90995, AS#90996, HST#90997, AST#90998, HF#90999, AF#91000, HC#91001, AC#91002, HY#91003, AY#91004, HR#91005, AR#91006]\n                                             +- Project [Date#90984, Time#90985, HomeTeam#90986, AwayTeam#90987, FTHG#90988, FTAG#90989, FTR#90990, HTHG#90991, HTAG#90992, HTR#90993, Referee#90994, HS#90995, AS#90996, HST#90997, AST#90998, HF#90999, AF#91000, HC#91001, AC#91002, HY#91003, AY#91004, HR#91005, AR#91006, B365H#91007, ... 81 more fields]\n                                                +- Union false, false\n                                                   :- Relation [Div#90983,Date#90984,Time#90985,HomeTeam#90986,AwayTeam#90987,FTHG#90988,FTAG#90989,FTR#90990,HTHG#90991,HTAG#90992,HTR#90993,Referee#90994,HS#90995,AS#90996,HST#90997,AST#90998,HF#90999,AF#91000,HC#91001,AC#91002,HY#91003,AY#91004,HR#91005,AR#91006,... 82 more fields] csv\n                                                   :- Relation [Div#91089,Date#91090,Time#91091,HomeTeam#91092,AwayTeam#91093,FTHG#91094,FTAG#91095,FTR#91096,HTHG#91097,HTAG#91098,HTR#91099,Referee#91100,HS#91101,AS#91102,HST#91103,AST#91104,HF#91105,AF#91106,HC#91107,AC#91108,HY#91109,AY#91110,HR#91111,AR#91112,... 82 more fields] csv\n                                                   :- Relation [Div#91195,Date#91196,Time#91197,HomeTeam#91198,AwayTeam#91199,FTHG#91200,FTAG#91201,FTR#91202,HTHG#91203,HTAG#91204,HTR#91205,Referee#91206,HS#91207,AS#91208,HST#91209,AST#91210,HF#91211,AF#91212,HC#91213,AC#91214,HY#91215,AY#91216,HR#91217,AR#91218,... 82 more fields] csv\n                                                   +- Relation [Div#91301,Date#91302,Time#91303,HomeTeam#91304,AwayTeam#91305,FTHG#91306,FTAG#91307,FTR#91308,HTHG#91309,HTAG#91310,HTR#91311,Referee#91312,HS#91313,AS#91314,HST#91315,AST#91316,HF#91317,AF#91318,HC#91319,AC#91320,HY#91321,AY#91322,HR#91323,AR#91324,... 82 more fields] csv\n",
     "output_type": "error",
     "traceback": [
      "\u001b[1;31m---------------------------------------------------------------------------\u001b[0m",
      "\u001b[1;31mAnalysisException\u001b[0m                         Traceback (most recent call last)",
      "Cell \u001b[1;32mIn[228], line 25\u001b[0m\n\u001b[0;32m     22\u001b[0m dfForm \u001b[38;5;241m=\u001b[39m spark\u001b[38;5;241m.\u001b[39msql(query)\n\u001b[0;32m     23\u001b[0m dfForm \u001b[38;5;241m=\u001b[39m dfForm\u001b[38;5;241m.\u001b[39mdrop(\u001b[38;5;124m\"\u001b[39m\u001b[38;5;124mresults_list\u001b[39m\u001b[38;5;124m\"\u001b[39m)\n\u001b[1;32m---> 25\u001b[0m df \u001b[38;5;241m=\u001b[39m \u001b[43mdf\u001b[49m\u001b[38;5;241;43m.\u001b[39;49m\u001b[43mjoin\u001b[49m\u001b[43m(\u001b[49m\u001b[43mdfForm\u001b[49m\u001b[38;5;241;43m.\u001b[39;49m\u001b[43mwithColumnRenamed\u001b[49m\u001b[43m(\u001b[49m\u001b[38;5;124;43m\"\u001b[39;49m\u001b[38;5;124;43mTeam\u001b[39;49m\u001b[38;5;124;43m\"\u001b[39;49m\u001b[43m,\u001b[49m\u001b[43m \u001b[49m\u001b[38;5;124;43m\"\u001b[39;49m\u001b[38;5;124;43mHomeTeam\u001b[39;49m\u001b[38;5;124;43m\"\u001b[39;49m\u001b[43m)\u001b[49m\u001b[38;5;241;43m.\u001b[39;49m\u001b[43mwithColumnRenamed\u001b[49m\u001b[43m(\u001b[49m\u001b[38;5;124;43m\"\u001b[39;49m\u001b[38;5;124;43mTeamForm\u001b[39;49m\u001b[38;5;124;43m\"\u001b[39;49m\u001b[43m,\u001b[49m\u001b[43m \u001b[49m\u001b[38;5;124;43m\"\u001b[39;49m\u001b[38;5;124;43mHomeTeamForm\u001b[39;49m\u001b[38;5;124;43m\"\u001b[39;49m\u001b[43m)\u001b[49m\u001b[43m,\u001b[49m\n\u001b[0;32m     26\u001b[0m \u001b[43m             \u001b[49m\u001b[43mon\u001b[49m\u001b[38;5;241;43m=\u001b[39;49m\u001b[43m[\u001b[49m\u001b[43mdf\u001b[49m\u001b[38;5;241;43m.\u001b[39;49m\u001b[43mHomeTeam\u001b[49m\u001b[43m \u001b[49m\u001b[38;5;241;43m==\u001b[39;49m\u001b[43m \u001b[49m\u001b[43mdfForm\u001b[49m\u001b[38;5;241;43m.\u001b[39;49m\u001b[43mTeam\u001b[49m\u001b[43m,\u001b[49m\u001b[43m \u001b[49m\u001b[43mdf\u001b[49m\u001b[38;5;241;43m.\u001b[39;49m\u001b[43mTime\u001b[49m\u001b[43m \u001b[49m\u001b[38;5;241;43m==\u001b[39;49m\u001b[43m \u001b[49m\u001b[43mdfForm\u001b[49m\u001b[38;5;241;43m.\u001b[39;49m\u001b[43mTime\u001b[49m\u001b[43m]\u001b[49m\u001b[43m,\u001b[49m\u001b[43m \u001b[49m\u001b[43mhow\u001b[49m\u001b[38;5;241;43m=\u001b[39;49m\u001b[38;5;124;43m\"\u001b[39;49m\u001b[38;5;124;43mright\u001b[39;49m\u001b[38;5;124;43m\"\u001b[39;49m\u001b[43m)\u001b[49m\n\u001b[0;32m     28\u001b[0m df \u001b[38;5;241m=\u001b[39m df\u001b[38;5;241m.\u001b[39mjoin(dfForm\u001b[38;5;241m.\u001b[39mwithColumnRenamed(\u001b[38;5;124m\"\u001b[39m\u001b[38;5;124mTeam\u001b[39m\u001b[38;5;124m\"\u001b[39m, \u001b[38;5;124m\"\u001b[39m\u001b[38;5;124mAwayTeam\u001b[39m\u001b[38;5;124m\"\u001b[39m)\u001b[38;5;241m.\u001b[39mwithColumnRenamed(\u001b[38;5;124m\"\u001b[39m\u001b[38;5;124mTeamForm\u001b[39m\u001b[38;5;124m\"\u001b[39m, \u001b[38;5;124m\"\u001b[39m\u001b[38;5;124mAwayTeamForm\u001b[39m\u001b[38;5;124m\"\u001b[39m),\n\u001b[0;32m     29\u001b[0m              on\u001b[38;5;241m=\u001b[39m[df\u001b[38;5;241m.\u001b[39mAwayTeam \u001b[38;5;241m==\u001b[39m dfForm\u001b[38;5;241m.\u001b[39mTeam, df\u001b[38;5;241m.\u001b[39mTime \u001b[38;5;241m==\u001b[39m dfForm\u001b[38;5;241m.\u001b[39mTime], how\u001b[38;5;241m=\u001b[39m\u001b[38;5;124m\"\u001b[39m\u001b[38;5;124mleft\u001b[39m\u001b[38;5;124m\"\u001b[39m)\n\u001b[0;32m     31\u001b[0m dfForm\u001b[38;5;241m.\u001b[39mshow()\n",
      "File \u001b[1;32mc:\\Python312\\Lib\\site-packages\\pyspark\\sql\\dataframe.py:2491\u001b[0m, in \u001b[0;36mDataFrame.join\u001b[1;34m(self, other, on, how)\u001b[0m\n\u001b[0;32m   2489\u001b[0m         on \u001b[38;5;241m=\u001b[39m \u001b[38;5;28mself\u001b[39m\u001b[38;5;241m.\u001b[39m_jseq([])\n\u001b[0;32m   2490\u001b[0m     \u001b[38;5;28;01massert\u001b[39;00m \u001b[38;5;28misinstance\u001b[39m(how, \u001b[38;5;28mstr\u001b[39m), \u001b[38;5;124m\"\u001b[39m\u001b[38;5;124mhow should be a string\u001b[39m\u001b[38;5;124m\"\u001b[39m\n\u001b[1;32m-> 2491\u001b[0m     jdf \u001b[38;5;241m=\u001b[39m \u001b[38;5;28;43mself\u001b[39;49m\u001b[38;5;241;43m.\u001b[39;49m\u001b[43m_jdf\u001b[49m\u001b[38;5;241;43m.\u001b[39;49m\u001b[43mjoin\u001b[49m\u001b[43m(\u001b[49m\u001b[43mother\u001b[49m\u001b[38;5;241;43m.\u001b[39;49m\u001b[43m_jdf\u001b[49m\u001b[43m,\u001b[49m\u001b[43m \u001b[49m\u001b[43mon\u001b[49m\u001b[43m,\u001b[49m\u001b[43m \u001b[49m\u001b[43mhow\u001b[49m\u001b[43m)\u001b[49m\n\u001b[0;32m   2492\u001b[0m \u001b[38;5;28;01mreturn\u001b[39;00m DataFrame(jdf, \u001b[38;5;28mself\u001b[39m\u001b[38;5;241m.\u001b[39msparkSession)\n",
      "File \u001b[1;32mc:\\Python312\\Lib\\site-packages\\py4j\\java_gateway.py:1322\u001b[0m, in \u001b[0;36mJavaMember.__call__\u001b[1;34m(self, *args)\u001b[0m\n\u001b[0;32m   1316\u001b[0m command \u001b[38;5;241m=\u001b[39m proto\u001b[38;5;241m.\u001b[39mCALL_COMMAND_NAME \u001b[38;5;241m+\u001b[39m\\\n\u001b[0;32m   1317\u001b[0m     \u001b[38;5;28mself\u001b[39m\u001b[38;5;241m.\u001b[39mcommand_header \u001b[38;5;241m+\u001b[39m\\\n\u001b[0;32m   1318\u001b[0m     args_command \u001b[38;5;241m+\u001b[39m\\\n\u001b[0;32m   1319\u001b[0m     proto\u001b[38;5;241m.\u001b[39mEND_COMMAND_PART\n\u001b[0;32m   1321\u001b[0m answer \u001b[38;5;241m=\u001b[39m \u001b[38;5;28mself\u001b[39m\u001b[38;5;241m.\u001b[39mgateway_client\u001b[38;5;241m.\u001b[39msend_command(command)\n\u001b[1;32m-> 1322\u001b[0m return_value \u001b[38;5;241m=\u001b[39m \u001b[43mget_return_value\u001b[49m\u001b[43m(\u001b[49m\n\u001b[0;32m   1323\u001b[0m \u001b[43m    \u001b[49m\u001b[43manswer\u001b[49m\u001b[43m,\u001b[49m\u001b[43m \u001b[49m\u001b[38;5;28;43mself\u001b[39;49m\u001b[38;5;241;43m.\u001b[39;49m\u001b[43mgateway_client\u001b[49m\u001b[43m,\u001b[49m\u001b[43m \u001b[49m\u001b[38;5;28;43mself\u001b[39;49m\u001b[38;5;241;43m.\u001b[39;49m\u001b[43mtarget_id\u001b[49m\u001b[43m,\u001b[49m\u001b[43m \u001b[49m\u001b[38;5;28;43mself\u001b[39;49m\u001b[38;5;241;43m.\u001b[39;49m\u001b[43mname\u001b[49m\u001b[43m)\u001b[49m\n\u001b[0;32m   1325\u001b[0m \u001b[38;5;28;01mfor\u001b[39;00m temp_arg \u001b[38;5;129;01min\u001b[39;00m temp_args:\n\u001b[0;32m   1326\u001b[0m     \u001b[38;5;28;01mif\u001b[39;00m \u001b[38;5;28mhasattr\u001b[39m(temp_arg, \u001b[38;5;124m\"\u001b[39m\u001b[38;5;124m_detach\u001b[39m\u001b[38;5;124m\"\u001b[39m):\n",
      "File \u001b[1;32mc:\\Python312\\Lib\\site-packages\\pyspark\\errors\\exceptions\\captured.py:185\u001b[0m, in \u001b[0;36mcapture_sql_exception.<locals>.deco\u001b[1;34m(*a, **kw)\u001b[0m\n\u001b[0;32m    181\u001b[0m converted \u001b[38;5;241m=\u001b[39m convert_exception(e\u001b[38;5;241m.\u001b[39mjava_exception)\n\u001b[0;32m    182\u001b[0m \u001b[38;5;28;01mif\u001b[39;00m \u001b[38;5;129;01mnot\u001b[39;00m \u001b[38;5;28misinstance\u001b[39m(converted, UnknownException):\n\u001b[0;32m    183\u001b[0m     \u001b[38;5;66;03m# Hide where the exception came from that shows a non-Pythonic\u001b[39;00m\n\u001b[0;32m    184\u001b[0m     \u001b[38;5;66;03m# JVM exception message.\u001b[39;00m\n\u001b[1;32m--> 185\u001b[0m     \u001b[38;5;28;01mraise\u001b[39;00m converted \u001b[38;5;28;01mfrom\u001b[39;00m \u001b[38;5;28;01mNone\u001b[39;00m\n\u001b[0;32m    186\u001b[0m \u001b[38;5;28;01melse\u001b[39;00m:\n\u001b[0;32m    187\u001b[0m     \u001b[38;5;28;01mraise\u001b[39;00m\n",
      "\u001b[1;31mAnalysisException\u001b[0m: [MISSING_ATTRIBUTES.RESOLVED_ATTRIBUTE_MISSING_FROM_INPUT] Resolved attribute(s) \"Team\" missing from \"Date\", \"Time\", \"HomeTeam\", \"AwayTeam\", \"FTHG\", \"FTAG\", \"FTR\", \"HTHG\", \"HTAG\", \"HTR\", \"Referee\", \"HS\", \"AS\", \"HST\", \"AST\", \"HF\", \"AF\", \"HC\", \"AC\", \"HY\", \"AY\", \"HR\", \"AR\", \"Time\", \"HomeTeam\", \"FTR\", \"HomeTeamForm\" in operator !Join RightOuter, ((HomeTeam#89101 = Team#90975) AND (Time#91441 = Time#91441)). ;\n!Join RightOuter, ((HomeTeam#89101 = Team#90975) AND (Time#91441 = Time#91441))\n:- Project [Date#89099, Time#89100, HomeTeam#89101, AwayTeam#89102, FTHG#89103, FTAG#89104, FTR#89105, HTHG#89106, HTAG#89107, HTR#89108, Referee#89109, HS#89110, AS#89111, HST#89112, AST#89113, HF#89114, AF#89115, HC#89116, AC#89117, HY#89118, AY#89119, HR#89120, AR#89121]\n:  +- Project [Date#89099, Time#89100, HomeTeam#89101, AwayTeam#89102, FTHG#89103, FTAG#89104, FTR#89105, HTHG#89106, HTAG#89107, HTR#89108, Referee#89109, HS#89110, AS#89111, HST#89112, AST#89113, HF#89114, AF#89115, HC#89116, AC#89117, HY#89118, AY#89119, HR#89120, AR#89121, B365H#89122, ... 81 more fields]\n:     +- Union false, false\n:        :- Relation [Div#89098,Date#89099,Time#89100,HomeTeam#89101,AwayTeam#89102,FTHG#89103,FTAG#89104,FTR#89105,HTHG#89106,HTAG#89107,HTR#89108,Referee#89109,HS#89110,AS#89111,HST#89112,AST#89113,HF#89114,AF#89115,HC#89116,AC#89117,HY#89118,AY#89119,HR#89120,AR#89121,... 82 more fields] csv\n:        :- Relation [Div#89327,Date#89328,Time#89329,HomeTeam#89330,AwayTeam#89331,FTHG#89332,FTAG#89333,FTR#89334,HTHG#89335,HTAG#89336,HTR#89337,Referee#89338,HS#89339,AS#89340,HST#89341,AST#89342,HF#89343,AF#89344,HC#89345,AC#89346,HY#89347,AY#89348,HR#89349,AR#89350,... 82 more fields] csv\n:        :- Relation [Div#89556,Date#89557,Time#89558,HomeTeam#89559,AwayTeam#89560,FTHG#89561,FTAG#89562,FTR#89563,HTHG#89564,HTAG#89565,HTR#89566,Referee#89567,HS#89568,AS#89569,HST#89570,AST#89571,HF#89572,AF#89573,HC#89574,AC#89575,HY#89576,AY#89577,HR#89578,AR#89579,... 82 more fields] csv\n:        +- Relation [Div#89785,Date#89786,Time#89787,HomeTeam#89788,AwayTeam#89789,FTHG#89790,FTAG#89791,FTR#89792,HTHG#89793,HTAG#89794,HTR#89795,Referee#89796,HS#89797,AS#89798,HST#89799,AST#89800,HF#89801,AF#89802,HC#89803,AC#89804,HY#89805,AY#89806,HR#89807,AR#89808,... 82 more fields] csv\n+- Project [Time#91441, HomeTeam#91429, FTR#91446, TeamForm#91419 AS HomeTeamForm#91434]\n   +- Project [Time#91441, Team#90975 AS HomeTeam#91429, FTR#91446, TeamForm#91419]\n      +- Project [Time#91441, Team#90975, FTR#91446, TeamForm#91419]\n         +- Project [Time#91441, Team#90975, FTR#91446, results_list#91414, CASE WHEN (size(results_list#91414, true) >= 5) THEN concat_ws(, slice(results_list#91414, (size(results_list#91414, true) - 4), 5)) ELSE concat_ws(, results_list#91414) END AS TeamForm#91419]\n            +- SubqueryAlias games\n               +- View (`games`, [Time#91441,Team#90975,FTR#91446,results_list#91414])\n                  +- Project [Time#91441, Team#90975, FTR#91446, results_list#91414]\n                     +- Project [Time#91441, Team#90975, FTR#91446, results_list#91414, results_list#91414]\n                        +- Window [collect_list(FTR#91446, 0, 0) windowspecdefinition(Team#90975, Time#91441 ASC NULLS FIRST, specifiedwindowframe(RowFrame, unboundedpreceding$(), currentrow$())) AS results_list#91414], [Team#90975], [Time#91441 ASC NULLS FIRST]\n                           +- Project [Time#91441, Team#90975, FTR#91446]\n                              +- Project [Time#91441, Team#90975, FTR#91446]\n                                 +- Sort [Time#91441 ASC NULLS FIRST], true\n                                    +- Union false, false\n                                       :- Project [Time#91441, HomeTeam#91442 AS Team#90975, FTR#91446]\n                                       :  +- Project [Date#91440, Time#91441, HomeTeam#91442, AwayTeam#91443, FTHG#91444, FTAG#91445, FTR#91446, HTHG#91447, HTAG#91448, HTR#91449, Referee#91450, HS#91451, AS#91452, HST#91453, AST#91454, HF#91455, AF#91456, HC#91457, AC#91458, HY#91459, AY#91460, HR#91461, AR#91462]\n                                       :     +- Project [Date#91440, Time#91441, HomeTeam#91442, AwayTeam#91443, FTHG#91444, FTAG#91445, FTR#91446, HTHG#91447, HTAG#91448, HTR#91449, Referee#91450, HS#91451, AS#91452, HST#91453, AST#91454, HF#91455, AF#91456, HC#91457, AC#91458, HY#91459, AY#91460, HR#91461, AR#91462, B365H#91463, ... 81 more fields]\n                                       :        +- Union false, false\n                                       :           :- Relation [Div#91439,Date#91440,Time#91441,HomeTeam#91442,AwayTeam#91443,FTHG#91444,FTAG#91445,FTR#91446,HTHG#91447,HTAG#91448,HTR#91449,Referee#91450,HS#91451,AS#91452,HST#91453,AST#91454,HF#91455,AF#91456,HC#91457,AC#91458,HY#91459,AY#91460,HR#91461,AR#91462,... 82 more fields] csv\n                                       :           :- Relation [Div#91545,Date#91546,Time#91547,HomeTeam#91548,AwayTeam#91549,FTHG#91550,FTAG#91551,FTR#91552,HTHG#91553,HTAG#91554,HTR#91555,Referee#91556,HS#91557,AS#91558,HST#91559,AST#91560,HF#91561,AF#91562,HC#91563,AC#91564,HY#91565,AY#91566,HR#91567,AR#91568,... 82 more fields] csv\n                                       :           :- Relation [Div#91651,Date#91652,Time#91653,HomeTeam#91654,AwayTeam#91655,FTHG#91656,FTAG#91657,FTR#91658,HTHG#91659,HTAG#91660,HTR#91661,Referee#91662,HS#91663,AS#91664,HST#91665,AST#91666,HF#91667,AF#91668,HC#91669,AC#91670,HY#91671,AY#91672,HR#91673,AR#91674,... 82 more fields] csv\n                                       :           +- Relation [Div#91757,Date#91758,Time#91759,HomeTeam#91760,AwayTeam#91761,FTHG#91762,FTAG#91763,FTR#91764,HTHG#91765,HTAG#91766,HTR#91767,Referee#91768,HS#91769,AS#91770,HST#91771,AST#91772,HF#91773,AF#91774,HC#91775,AC#91776,HY#91777,AY#91778,HR#91779,AR#91780,... 82 more fields] csv\n                                       +- Project [Time#90985, AwayTeam#90987 AS Team#90979, FTR#90990]\n                                          +- Project [Date#90984, Time#90985, HomeTeam#90986, AwayTeam#90987, FTHG#90988, FTAG#90989, FTR#90990, HTHG#90991, HTAG#90992, HTR#90993, Referee#90994, HS#90995, AS#90996, HST#90997, AST#90998, HF#90999, AF#91000, HC#91001, AC#91002, HY#91003, AY#91004, HR#91005, AR#91006]\n                                             +- Project [Date#90984, Time#90985, HomeTeam#90986, AwayTeam#90987, FTHG#90988, FTAG#90989, FTR#90990, HTHG#90991, HTAG#90992, HTR#90993, Referee#90994, HS#90995, AS#90996, HST#90997, AST#90998, HF#90999, AF#91000, HC#91001, AC#91002, HY#91003, AY#91004, HR#91005, AR#91006, B365H#91007, ... 81 more fields]\n                                                +- Union false, false\n                                                   :- Relation [Div#90983,Date#90984,Time#90985,HomeTeam#90986,AwayTeam#90987,FTHG#90988,FTAG#90989,FTR#90990,HTHG#90991,HTAG#90992,HTR#90993,Referee#90994,HS#90995,AS#90996,HST#90997,AST#90998,HF#90999,AF#91000,HC#91001,AC#91002,HY#91003,AY#91004,HR#91005,AR#91006,... 82 more fields] csv\n                                                   :- Relation [Div#91089,Date#91090,Time#91091,HomeTeam#91092,AwayTeam#91093,FTHG#91094,FTAG#91095,FTR#91096,HTHG#91097,HTAG#91098,HTR#91099,Referee#91100,HS#91101,AS#91102,HST#91103,AST#91104,HF#91105,AF#91106,HC#91107,AC#91108,HY#91109,AY#91110,HR#91111,AR#91112,... 82 more fields] csv\n                                                   :- Relation [Div#91195,Date#91196,Time#91197,HomeTeam#91198,AwayTeam#91199,FTHG#91200,FTAG#91201,FTR#91202,HTHG#91203,HTAG#91204,HTR#91205,Referee#91206,HS#91207,AS#91208,HST#91209,AST#91210,HF#91211,AF#91212,HC#91213,AC#91214,HY#91215,AY#91216,HR#91217,AR#91218,... 82 more fields] csv\n                                                   +- Relation [Div#91301,Date#91302,Time#91303,HomeTeam#91304,AwayTeam#91305,FTHG#91306,FTAG#91307,FTR#91308,HTHG#91309,HTAG#91310,HTR#91311,Referee#91312,HS#91313,AS#91314,HST#91315,AST#91316,HF#91317,AF#91318,HC#91319,AC#91320,HY#91321,AY#91322,HR#91323,AR#91324,... 82 more fields] csv\n"
     ]
    }
   ],
   "source": [
    "dfHome = df.select(col(\"Time\"), col(\"HomeTeam\").alias(\"Team\"), col(\"FTR\"))\n",
    "dfAway = df.select(col(\"Time\"), col(\"AwayTeam\").alias(\"Team\"), col(\"FTR\"))\n",
    "\n",
    "dfForm = dfHome.union(dfAway).orderBy(\"Time\")\n",
    "dfForm = dfForm.select(\"Time\", \"Team\", \"FTR\")\n",
    "\n",
    "#Last 5 game results for the home team\n",
    "window_spec = Window.partitionBy(\"Team\").orderBy(\"Time\").rowsBetween(Window.unboundedPreceding, Window.currentRow)\n",
    "\n",
    "dfForm = dfForm.withColumn(\"results_list\", collect_list(\"FTR\").over(window_spec))\n",
    "\n",
    "dfForm.createOrReplaceTempView(\"games\")\n",
    "query = \"\"\"\n",
    "SELECT *,\n",
    "    CASE \n",
    "        WHEN size(results_list) >= 5 THEN concat_ws('', slice(results_list, size(results_list) - 4, 5))\n",
    "        ELSE concat_ws('', results_list)\n",
    "    END AS TeamForm\n",
    "FROM games\n",
    "\"\"\"\n",
    "\n",
    "dfForm = spark.sql(query)\n",
    "dfForm = dfForm.drop(\"results_list\")\n",
    "\n",
    "df = df.join(dfForm.withColumnRenamed(\"Team\", \"HomeTeam\").withColumnRenamed(\"TeamForm\", \"HomeTeamForm\"),\n",
    "             on=[df.HomeTeam == dfForm.Team, df.Time == dfForm.Time], how=\"left\")\n",
    "\n",
    "df = df.join(dfForm.withColumnRenamed(\"Team\", \"AwayTeam\").withColumnRenamed(\"TeamForm\", \"AwayTeamForm\"),\n",
    "             on=[df.AwayTeam == dfForm.Team, df.Time == dfForm.Time], how=\"left\")\n",
    "\n",
    "dfForm.show()"
   ]
  },
  {
   "cell_type": "code",
   "execution_count": null,
   "id": "4284cd05",
   "metadata": {},
   "outputs": [
    {
     "name": "stdout",
     "output_type": "stream",
     "text": [
      "+------------+-----+\n",
      "|     Referee|count|\n",
      "+------------+-----+\n",
      "|    A Taylor|  113|\n",
      "|    M Oliver|  108|\n",
      "|   P Tierney|  103|\n",
      "|    C Pawson|   89|\n",
      "|   S Attwell|   85|\n",
      "|    S Hooper|   81|\n",
      "|    A Madley|   79|\n",
      "|     D Coote|   78|\n",
      "|  C Kavanagh|   73|\n",
      "|     R Jones|   69|\n",
      "|    P Bankes|   59|\n",
      "|  A Marriner|   57|\n",
      "|   D England|   56|\n",
      "|  M Atkinson|   52|\n",
      "|      M Dean|   51|\n",
      "|      J Moss|   49|\n",
      "|   J Gillett|   46|\n",
      "|    J Brooks|   45|\n",
      "|    K Friend|   43|\n",
      "|     G Scott|   37|\n",
      "| M Salisbury|   32|\n",
      "|  T Robinson|   23|\n",
      "|   T Bramall|   19|\n",
      "|T Harrington|   19|\n",
      "|   S Barrott|   15|\n",
      "|     L Mason|   11|\n",
      "|      D Bond|    9|\n",
      "|     J Smith|    5|\n",
      "|   S Allison|    3|\n",
      "|    R Madley|    2|\n",
      "|     R Welch|    2|\n",
      "|     L Smith|    2|\n",
      "|   M Donohue|    2|\n",
      "|  J Gillett |    1|\n",
      "|     S Singh|    1|\n",
      "|      A Moss|    1|\n",
      "+------------+-----+\n",
      "\n"
     ]
    }
   ],
   "source": [
    "df.groupBy(\"Referee\").count().orderBy(\"count\", ascending=False).show(300)"
   ]
  },
  {
   "cell_type": "code",
   "execution_count": null,
   "id": "4bfcfe3a",
   "metadata": {},
   "outputs": [],
   "source": [
    "df = df.withColumn(\"corrected_date\", expr(\"concat('20', substr(date, 9, 2), '-', substr(date, 4, 2), '-', substr(date, 1, 2))\"))\n",
    "df = df.withColumn(\"corrected_date_type\", to_date(col(\"corrected_date\")))\n",
    "df = df.withColumn(\"updated_datetime\", (to_timestamp(concat_ws(' ', date_format(col(\"corrected_date_type\"), 'yyyy-MM-dd'), date_format(col(\"Time\"), 'HH:mm:ss')))))\n",
    "df = df.drop(\"Date\", \"Time\", \"corrected_date\")\n",
    "df = df.withColumnRenamed(\"corrected_date_type\", \"Date\")\n",
    "df = df.withColumnRenamed(\"updated_datetime\", \"Time\")\n"
   ]
  },
  {
   "cell_type": "code",
   "execution_count": null,
   "id": "2e7da5f7",
   "metadata": {},
   "outputs": [],
   "source": [
    "\n",
    "\n"
   ]
  },
  {
   "cell_type": "code",
   "execution_count": null,
   "id": "db25ef1b",
   "metadata": {},
   "outputs": [
    {
     "data": {
      "text/plain": [
       "[Row(HomeTeam='Burnley', AwayTeam='Man City', FTHG=0, FTAG=3, FTR='A', HTHG=0, HTAG=2, HTR='A', Referee='C Pawson', HS=6, AS=17, HST=1, AST=8, HF=11, AF=8, HC=6, AC=5, HY=0, AY=0, HR=1, AR=0, Date=datetime.date(2023, 8, 11), Time=datetime.datetime(2023, 8, 11, 20, 0)),\n",
       " Row(HomeTeam='Arsenal', AwayTeam=\"Nott'm Forest\", FTHG=2, FTAG=1, FTR='H', HTHG=2, HTAG=0, HTR='H', Referee='M Oliver', HS=15, AS=6, HST=7, AST=2, HF=12, AF=12, HC=8, AC=3, HY=2, AY=2, HR=0, AR=0, Date=datetime.date(2023, 8, 12), Time=datetime.datetime(2023, 8, 12, 12, 30)),\n",
       " Row(HomeTeam='Bournemouth', AwayTeam='West Ham', FTHG=1, FTAG=1, FTR='D', HTHG=0, HTAG=0, HTR='D', Referee='P Bankes', HS=14, AS=16, HST=5, AST=3, HF=9, AF=14, HC=10, AC=4, HY=1, AY=4, HR=0, AR=0, Date=datetime.date(2023, 8, 12), Time=datetime.datetime(2023, 8, 12, 15, 0)),\n",
       " Row(HomeTeam='Brighton', AwayTeam='Luton', FTHG=4, FTAG=1, FTR='H', HTHG=1, HTAG=0, HTR='H', Referee='D Coote', HS=27, AS=9, HST=12, AST=3, HF=11, AF=12, HC=6, AC=7, HY=2, AY=2, HR=0, AR=0, Date=datetime.date(2023, 8, 12), Time=datetime.datetime(2023, 8, 12, 15, 0)),\n",
       " Row(HomeTeam='Everton', AwayTeam='Fulham', FTHG=0, FTAG=1, FTR='A', HTHG=0, HTAG=0, HTR='D', Referee='S Attwell', HS=19, AS=9, HST=9, AST=2, HF=12, AF=6, HC=10, AC=4, HY=0, AY=2, HR=0, AR=0, Date=datetime.date(2023, 8, 12), Time=datetime.datetime(2023, 8, 12, 15, 0))]"
      ]
     },
     "execution_count": 200,
     "metadata": {},
     "output_type": "execute_result"
    }
   ],
   "source": [
    "df.head(5)"
   ]
  }
 ],
 "metadata": {
  "kernelspec": {
   "display_name": "Python 3 (ipykernel)",
   "language": "python",
   "name": "python3"
  },
  "language_info": {
   "codemirror_mode": {
    "name": "ipython",
    "version": 3
   },
   "file_extension": ".py",
   "mimetype": "text/x-python",
   "name": "python",
   "nbconvert_exporter": "python",
   "pygments_lexer": "ipython3",
   "version": "3.12.3"
  }
 },
 "nbformat": 4,
 "nbformat_minor": 5
}
