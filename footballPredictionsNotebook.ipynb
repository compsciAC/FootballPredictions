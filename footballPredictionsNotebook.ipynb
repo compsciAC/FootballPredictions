{
 "cells": [
  {
   "cell_type": "code",
   "execution_count": 33,
   "id": "450dae1d",
   "metadata": {},
   "outputs": [],
   "source": [
    "from pyspark.sql import SparkSession\n",
    "from pyspark.sql.functions import col, lag, date_format, concat_ws, to_timestamp, to_date, expr, StringType, collect_list\n",
    "from pyspark.sql.window import Window\n",
    "\n",
    "spark = SparkSession.builder.appName(\"FB\").getOrCreate()\n",
    "\n",
    "df = spark.read.csv(\"C:/Users/ThinkPad/GitProjects/FootballPredictions/E0.csv\", header=True, inferSchema=True)\n",
    "df2 = spark.read.csv(\"C:/Users/ThinkPad/GitProjects/FootballPredictions/E0 (1).csv\", header=True, inferSchema=True)\n",
    "df3 = spark.read.csv(\"C:/Users/ThinkPad/GitProjects/FootballPredictions/E0 (2).csv\", header=True, inferSchema=True)\n",
    "df4 = spark.read.csv(\"C:/Users/ThinkPad/GitProjects/FootballPredictions/E0 (3).csv\", header=True, inferSchema=True)\n"
   ]
  },
  {
   "cell_type": "code",
   "execution_count": 34,
   "id": "0c5eb75c",
   "metadata": {},
   "outputs": [
    {
     "name": "stdout",
     "output_type": "stream",
     "text": [
      "+---+----------+-------------------+-----------+-------------+----+----+---+----+----+---+---------+---+---+---+---+---+---+---+---+---+---+---+---+-----+-----+-----+----+----+----+----+----+----+----+----+-----+----+---+----+----+----+----+----+----+----+----+----+-----+--------+--------+-----+-----+-------+-------+-------+-------+-----+-------+-------+----+----+------+------+------+------+------+------+------+----+----+----+----+----+----+----+----+-----+----+----+----+----+----+----+-----+-----+-----+-----+-----+-----+---------+---------+------+------+--------+--------+--------+--------+-----+--------+--------+-----+-----+-------+-------+-------+-------+\n",
      "|Div|      Date|               Time|   HomeTeam|     AwayTeam|FTHG|FTAG|FTR|HTHG|HTAG|HTR|  Referee| HS| AS|HST|AST| HF| AF| HC| AC| HY| AY| HR| AR|B365H|B365D|B365A| BWH| BWD| BWA| IWH| IWD| IWA| PSH| PSD|  PSA| WHH|WHD| WHA| VCH| VCD| VCA|MaxH|MaxD|MaxA|AvgH|AvgD| AvgA|B365>2.5|B365<2.5|P>2.5|P<2.5|Max>2.5|Max<2.5|Avg>2.5|Avg<2.5|  AHh|B365AHH|B365AHA|PAHH|PAHA|MaxAHH|MaxAHA|AvgAHH|AvgAHA|B365CH|B365CD|B365CA|BWCH|BWCD|BWCA|IWCH|IWCD|IWCA|PSCH|PSCD| PSCA|WHCH|WHCD|WHCA|VCCH|VCCD|VCCA|MaxCH|MaxCD|MaxCA|AvgCH|AvgCD|AvgCA|B365C>2.5|B365C<2.5|PC>2.5|PC<2.5|MaxC>2.5|MaxC<2.5|AvgC>2.5|AvgC<2.5| AHCh|B365CAHH|B365CAHA|PCAHH|PCAHA|MaxCAHH|MaxCAHA|AvgCAHH|AvgCAHA|\n",
      "+---+----------+-------------------+-----------+-------------+----+----+---+----+----+---+---------+---+---+---+---+---+---+---+---+---+---+---+---+-----+-----+-----+----+----+----+----+----+----+----+----+-----+----+---+----+----+----+----+----+----+----+----+----+-----+--------+--------+-----+-----+-------+-------+-------+-------+-----+-------+-------+----+----+------+------+------+------+------+------+------+----+----+----+----+----+----+----+----+-----+----+----+----+----+----+----+-----+-----+-----+-----+-----+-----+---------+---------+------+------+--------+--------+--------+--------+-----+--------+--------+-----+-----+-------+-------+-------+-------+\n",
      "| E0|11/08/2023|2024-07-24 20:00:00|    Burnley|     Man City|   0|   3|  A|   0|   2|  A| C Pawson|  6| 17|  1|  8| 11|  8|  6|  5|  0|  0|  1|  0|  8.0|  5.5| 1.33|8.75|5.25|1.34| 8.0| 5.5|1.35|8.58|5.51| 1.37| 8.0|5.0|1.25| 9.5|5.25|1.33| 9.5|5.68|1.39|9.02|5.35| 1.35|    1.67|     2.2| 1.68| 2.29|   1.71|    2.4|   1.65|   2.27|  1.5|   1.86|   2.07|1.86|2.07|  1.93|  2.09|  1.85|  2.03|   9.0|  5.25|  1.33|8.75|5.25|1.33| 8.5|5.25|1.35|9.62|5.81| 1.33| 7.5| 4.6|1.29|10.5|5.25| 1.3| 10.5| 5.81| 1.36| 9.27| 5.45| 1.33|     1.67|      2.2|  1.65|  2.35|    1.73|    2.45|    1.64|    2.28|  1.5|    1.95|    1.98| 1.95| 1.97|   NULL|   NULL|   1.92|   1.95|\n",
      "| E0|12/08/2023|2024-07-24 12:30:00|    Arsenal|Nott'm Forest|   2|   1|  H|   2|   0|  H| M Oliver| 15|  6|  7|  2| 12| 12|  8|  3|  2|  2|  0|  0| 1.18|  7.0| 15.0|1.17| 7.5|15.5| 1.2|7.25|14.0|1.18|7.86|15.67|1.12|6.5|12.0|1.14| 7.5|17.0|1.21| 8.5|17.5|1.18|7.64|15.67|    1.44|    2.75| 1.42| 2.93|   1.45|   2.98|   1.42|   2.85| -2.0|   1.88|   2.02|1.88|2.01|  1.91|  2.06|  1.87|  1.99|  1.18|   7.0|  15.0|1.18| 7.0|14.5| 1.2| 7.0|14.0|1.19| 8.0| 16.0|1.12| 6.5|12.0|1.22| 7.0|13.0| 1.22|  8.4| 19.0| 1.19| 7.43|15.98|      1.5|     2.63|  1.49|  2.65|    1.52|    2.79|    1.49|    2.63| -2.0|    1.95|    1.98| 1.93| 1.97|   2.01|   2.09|   1.95|   1.92|\n",
      "| E0|12/08/2023|2024-07-24 15:00:00|Bournemouth|     West Ham|   1|   1|  D|   0|   0|  D| P Bankes| 14| 16|  5|  3|  9| 14| 10|  4|  1|  4|  0|  0|  2.7|  3.4| 2.55|2.65| 3.4|2.55| 2.7|3.45| 2.6| 2.7|3.47| 2.71|2.62|3.2| 2.3|2.63| 3.3|2.63| 2.8|3.62|2.75|2.69|3.44| 2.64|     1.9|     2.0|  1.9| 1.99|   1.95|   2.03|   1.88|   1.94|  0.0|   1.95|   1.95|1.95|1.95|  1.98|  1.99|  1.94|  1.92|  2.63|   3.5|   2.6|2.65| 3.5| 2.5| 2.6| 3.5| 2.6|2.75| 3.6| 2.63| 2.5| 3.2|2.45|2.63| 3.5| 2.6| 2.88| 3.67|  2.7|  2.7| 3.53| 2.59|     1.73|      2.1|  1.76|  2.18|    1.83|    2.23|    1.74|    2.12|  0.0|    2.02|    1.91| 2.01| 1.92|   2.06|   1.96|   1.96|   1.91|\n",
      "| E0|12/08/2023|2024-07-24 15:00:00|   Brighton|        Luton|   4|   1|  H|   1|   0|  H|  D Coote| 27|  9| 12|  3| 11| 12|  6|  7|  2|  2|  0|  0| 1.33|  5.5|  9.0|1.32| 5.5| 9.0|1.35|5.25| 8.5|1.33|5.65| 9.61|1.25|4.6| 8.5|1.29|5.25|10.0|1.36| 6.0|10.5|1.33|5.52| 9.61|    1.62|     2.3| 1.62|  2.4|   1.65|   2.45|   1.61|   2.34| -1.5|   1.95|   1.95|1.95|1.95|  1.98|   2.0|  1.93|  1.93|  1.25|   6.5|  11.0|1.26| 6.0|11.0| 1.3| 5.5| 9.5|1.27|6.36|11.36|1.22| 5.5| 9.0|1.25|5.75|13.0| 1.34| 6.59| 13.0| 1.28| 5.99|10.91|     1.53|      2.5|  1.56|  2.54|    1.62|    2.66|    1.55|    2.48|-1.75|    2.01|    1.92|  2.0| 1.91|   2.14|   1.93|    2.0|   1.86|\n",
      "| E0|12/08/2023|2024-07-24 15:00:00|    Everton|       Fulham|   0|   1|  A|   0|   0|  D|S Attwell| 19|  9|  9|  2| 12|  6| 10|  4|  0|  2|  0|  0|  2.2|  3.4|  3.3| 2.2| 3.4|3.25|2.25| 3.4|3.25|2.27|3.45| 3.35| 2.1|3.2| 3.0| 2.2| 3.3|3.25| 2.3|3.57|3.45|2.24|3.43|  3.3|    2.01|    1.89|  2.0| 1.89|   2.04|   1.92|   1.97|   1.86|-0.25|   1.93|   1.97|1.95|1.95|  1.97|   2.0|  1.92|  1.93|   2.3|   3.2|   3.2|2.35| 3.2| 3.1|2.35|3.25|3.15|2.39|3.32|  3.3| 2.1| 3.2| 3.0|2.38| 3.2| 3.2| 2.42| 3.42| 3.56| 2.32| 3.28| 3.27|      2.1|     1.73|  2.23|  1.72|    2.26|    1.81|    2.17|    1.71|-0.25|    2.06|    1.87| 2.04| 1.88|   2.08|   1.99|   1.98|   1.88|\n",
      "+---+----------+-------------------+-----------+-------------+----+----+---+----+----+---+---------+---+---+---+---+---+---+---+---+---+---+---+---+-----+-----+-----+----+----+----+----+----+----+----+----+-----+----+---+----+----+----+----+----+----+----+----+----+-----+--------+--------+-----+-----+-------+-------+-------+-------+-----+-------+-------+----+----+------+------+------+------+------+------+------+----+----+----+----+----+----+----+----+-----+----+----+----+----+----+----+-----+-----+-----+-----+-----+-----+---------+---------+------+------+--------+--------+--------+--------+-----+--------+--------+-----+-----+-------+-------+-------+-------+\n",
      "only showing top 5 rows\n",
      "\n"
     ]
    }
   ],
   "source": [
    "df.show(5)"
   ]
  },
  {
   "cell_type": "code",
   "execution_count": 35,
   "id": "72eab372",
   "metadata": {},
   "outputs": [],
   "source": [
    "df = df.union(df2)\n",
    "df = df.union(df3)\n",
    "df = df.union(df4)"
   ]
  },
  {
   "cell_type": "code",
   "execution_count": 36,
   "id": "42979ded",
   "metadata": {},
   "outputs": [],
   "source": [
    "df = df.drop(\"Div\")\n",
    "df = df.select(\"Date\", \"Time\", \"HomeTeam\", \"AwayTeam\", \"FTHG\", \"FTAG\", \"FTR\", \"HTHG\", \"HTAG\", \"HTR\", \"Referee\", \"HS\", \"AS\", \"HST\", \"AST\", \"HF\", \"AF\", \"HC\", \"AC\", \"HY\", \"AY\", \"HR\", \"AR\")"
   ]
  },
  {
   "cell_type": "code",
   "execution_count": 37,
   "id": "61554ac6",
   "metadata": {},
   "outputs": [
    {
     "name": "stdout",
     "output_type": "stream",
     "text": [
      "+----------+--------+--------+----+----+---+----+----+---+--------+---+---+---+---+---+---+---+---+---+---+---+---+-------------------+---+------------+-------------------+---+------------+\n",
      "|      Date|HomeTeam|AwayTeam|FTHG|FTAG|FTR|HTHG|HTAG|HTR| Referee| HS| AS|HST|AST| HF| AF| HC| AC| HY| AY| HR| AR|               Time|FTR|HomeTeamForm|               Time|FTR|AwayTeamForm|\n",
      "+----------+--------+--------+----+----+---+----+----+---+--------+---+---+---+---+---+---+---+---+---+---+---+---+-------------------+---+------------+-------------------+---+------------+\n",
      "|11/08/2023| Burnley|Man City|   0|   3|  A|   0|   2|  A|C Pawson|  6| 17|  1|  8| 11|  8|  6|  5|  0|  0|  1|  0|2024-07-24 20:00:00|  A|       HDHAA|2024-07-24 20:00:00|  A|       ADDAA|\n",
      "|11/08/2023| Burnley|Man City|   0|   3|  A|   0|   2|  A|C Pawson|  6| 17|  1|  8| 11|  8|  6|  5|  0|  0|  1|  0|2024-07-24 20:00:00|  A|       HDHAA|2024-07-24 20:00:00|  A|       AADDA|\n",
      "|11/08/2023| Burnley|Man City|   0|   3|  A|   0|   2|  A|C Pawson|  6| 17|  1|  8| 11|  8|  6|  5|  0|  0|  1|  0|2024-07-24 20:00:00|  A|       HDHAA|2024-07-24 20:00:00|  D|       AAADD|\n",
      "|11/08/2023| Burnley|Man City|   0|   3|  A|   0|   2|  A|C Pawson|  6| 17|  1|  8| 11|  8|  6|  5|  0|  0|  1|  0|2024-07-24 20:00:00|  A|       HDHAA|2024-07-24 20:00:00|  D|       AAAAD|\n",
      "|11/08/2023| Burnley|Man City|   0|   3|  A|   0|   2|  A|C Pawson|  6| 17|  1|  8| 11|  8|  6|  5|  0|  0|  1|  0|2024-07-24 20:00:00|  A|       HDHAA|2024-07-24 20:00:00|  A|       AAAAA|\n",
      "|11/08/2023| Burnley|Man City|   0|   3|  A|   0|   2|  A|C Pawson|  6| 17|  1|  8| 11|  8|  6|  5|  0|  0|  1|  0|2024-07-24 20:00:00|  A|       HDHAA|2024-07-24 20:00:00|  A|       AAAAA|\n",
      "|11/08/2023| Burnley|Man City|   0|   3|  A|   0|   2|  A|C Pawson|  6| 17|  1|  8| 11|  8|  6|  5|  0|  0|  1|  0|2024-07-24 20:00:00|  A|       HDHAA|2024-07-24 20:00:00|  A|       HAAAA|\n",
      "|11/08/2023| Burnley|Man City|   0|   3|  A|   0|   2|  A|C Pawson|  6| 17|  1|  8| 11|  8|  6|  5|  0|  0|  1|  0|2024-07-24 20:00:00|  A|       HDHAA|2024-07-24 20:00:00|  A|       HHAAA|\n",
      "|11/08/2023| Burnley|Man City|   0|   3|  A|   0|   2|  A|C Pawson|  6| 17|  1|  8| 11|  8|  6|  5|  0|  0|  1|  0|2024-07-24 20:00:00|  A|       HDHAA|2024-07-24 20:00:00|  A|       DHHAA|\n",
      "|11/08/2023| Burnley|Man City|   0|   3|  A|   0|   2|  A|C Pawson|  6| 17|  1|  8| 11|  8|  6|  5|  0|  0|  1|  0|2024-07-24 20:00:00|  A|       HDHAA|2024-07-24 20:00:00|  A|       HDHHA|\n",
      "|11/08/2023| Burnley|Man City|   0|   3|  A|   0|   2|  A|C Pawson|  6| 17|  1|  8| 11|  8|  6|  5|  0|  0|  1|  0|2024-07-24 20:00:00|  A|       HDHAA|2024-07-24 20:00:00|  H|       HHDHH|\n",
      "|11/08/2023| Burnley|Man City|   0|   3|  A|   0|   2|  A|C Pawson|  6| 17|  1|  8| 11|  8|  6|  5|  0|  0|  1|  0|2024-07-24 20:00:00|  A|       HDHAA|2024-07-24 20:00:00|  H|       HHHDH|\n",
      "|11/08/2023| Burnley|Man City|   0|   3|  A|   0|   2|  A|C Pawson|  6| 17|  1|  8| 11|  8|  6|  5|  0|  0|  1|  0|2024-07-24 20:00:00|  A|       HDHAA|2024-07-24 20:00:00|  D|       HHHHD|\n",
      "|11/08/2023| Burnley|Man City|   0|   3|  A|   0|   2|  A|C Pawson|  6| 17|  1|  8| 11|  8|  6|  5|  0|  0|  1|  0|2024-07-24 20:00:00|  A|       HDHAA|2024-07-24 20:00:00|  H|       HHHHH|\n",
      "|11/08/2023| Burnley|Man City|   0|   3|  A|   0|   2|  A|C Pawson|  6| 17|  1|  8| 11|  8|  6|  5|  0|  0|  1|  0|2024-07-24 20:00:00|  A|       HDHAA|2024-07-24 20:00:00|  H|       HHHHH|\n",
      "|11/08/2023| Burnley|Man City|   0|   3|  A|   0|   2|  A|C Pawson|  6| 17|  1|  8| 11|  8|  6|  5|  0|  0|  1|  0|2024-07-24 20:00:00|  A|       HDHAA|2024-07-24 20:00:00|  H|       HHHHH|\n",
      "|11/08/2023| Burnley|Man City|   0|   3|  A|   0|   2|  A|C Pawson|  6| 17|  1|  8| 11|  8|  6|  5|  0|  0|  1|  0|2024-07-24 20:00:00|  A|       HDHAA|2024-07-24 20:00:00|  H|       AHHHH|\n",
      "|11/08/2023| Burnley|Man City|   0|   3|  A|   0|   2|  A|C Pawson|  6| 17|  1|  8| 11|  8|  6|  5|  0|  0|  1|  0|2024-07-24 20:00:00|  A|       HDHAA|2024-07-24 20:00:00|  H|       HAHHH|\n",
      "|11/08/2023| Burnley|Man City|   0|   3|  A|   0|   2|  A|C Pawson|  6| 17|  1|  8| 11|  8|  6|  5|  0|  0|  1|  0|2024-07-24 20:00:00|  A|       HDHAA|2024-07-24 20:00:00|  H|       HHAHH|\n",
      "|11/08/2023| Burnley|Man City|   0|   3|  A|   0|   2|  A|C Pawson|  6| 17|  1|  8| 11|  8|  6|  5|  0|  0|  1|  0|2024-07-24 20:00:00|  A|       AHDHA|2024-07-24 20:00:00|  A|       ADDAA|\n",
      "+----------+--------+--------+----+----+---+----+----+---+--------+---+---+---+---+---+---+---+---+---+---+---+---+-------------------+---+------------+-------------------+---+------------+\n",
      "only showing top 20 rows\n",
      "\n"
     ]
    }
   ],
   "source": [
    "dfHome = df.select(col(\"Time\"), col(\"HomeTeam\").alias(\"Team\"), col(\"FTR\"))\n",
    "dfAway = df.select(col(\"Time\"), col(\"AwayTeam\").alias(\"Team\"), col(\"FTR\"))\n",
    "\n",
    "dfForm = dfHome.union(dfAway).orderBy(\"Time\")\n",
    "dfForm = dfForm.select(\"Time\", \"Team\", \"FTR\")\n",
    "\n",
    "#Last 5 game results for the home team\n",
    "window_spec = Window.partitionBy(\"Team\").orderBy(\"Time\").rowsBetween(Window.unboundedPreceding, Window.currentRow)\n",
    "\n",
    "dfForm = dfForm.withColumn(\"results_list\", collect_list(\"FTR\").over(window_spec))\n",
    "\n",
    "dfForm.createOrReplaceTempView(\"games\")\n",
    "query = \"\"\"\n",
    "SELECT *,\n",
    "    CASE \n",
    "        WHEN size(results_list) >= 5 THEN concat_ws('', slice(results_list, size(results_list) - 4, 5))\n",
    "        ELSE concat_ws('', results_list)\n",
    "    END AS TeamForm\n",
    "FROM games\n",
    "\"\"\"\n",
    "\n",
    "dfForm = spark.sql(query)\n",
    "dfForm = dfForm.drop(\"results_list\")\n",
    "\n",
    "home_form_df = dfForm.withColumnRenamed(\"Team\", \"HomeTeam\").withColumnRenamed(\"TeamForm\", \"HomeTeamForm\")\n",
    "away_form_df = dfForm.withColumnRenamed(\"Team\", \"AwayTeam\").withColumnRenamed(\"TeamForm\", \"AwayTeamForm\")\n",
    "\n",
    "# Join on HomeTeam and Time\n",
    "df = df.join(home_form_df, on=[df.HomeTeam == home_form_df.HomeTeam, df.Time == home_form_df.Time], how=\"left\").drop(home_form_df.HomeTeam).drop(home_form_df.Time)\n",
    "\n",
    "# Join on AwayTeam and Time\n",
    "df = df.join(away_form_df, on=[df.AwayTeam == away_form_df.AwayTeam, df.Time == away_form_df.Time], how=\"left\").drop(away_form_df.AwayTeam).drop(away_form_df.Time)\n",
    "\n",
    "df.show()"
   ]
  },
  {
   "cell_type": "code",
   "execution_count": 38,
   "id": "4284cd05",
   "metadata": {},
   "outputs": [
    {
     "name": "stdout",
     "output_type": "stream",
     "text": [
      "+------------+-----+\n",
      "|     Referee|count|\n",
      "+------------+-----+\n",
      "|    S Hooper|57191|\n",
      "|   P Tierney|56150|\n",
      "|    A Taylor|54159|\n",
      "|    M Oliver|46730|\n",
      "|    A Madley|45844|\n",
      "|    C Pawson|45093|\n",
      "|    P Bankes|41125|\n",
      "|     D Coote|38251|\n",
      "|  C Kavanagh|38040|\n",
      "|   S Attwell|36356|\n",
      "|   D England|35597|\n",
      "| M Salisbury|35520|\n",
      "|     R Jones|34597|\n",
      "|     G Scott|34155|\n",
      "|    J Brooks|29212|\n",
      "|   J Gillett|26603|\n",
      "|  A Marriner|26408|\n",
      "|      J Moss|26394|\n",
      "|   T Bramall|19304|\n",
      "|  M Atkinson|18694|\n",
      "|  T Robinson|17752|\n",
      "|    K Friend|17262|\n",
      "|   S Barrott|16074|\n",
      "|      M Dean|16036|\n",
      "|T Harrington|11364|\n",
      "|      D Bond| 9960|\n",
      "|     J Smith| 6431|\n",
      "|    R Madley| 4753|\n",
      "|     L Smith| 4572|\n",
      "|     L Mason| 2229|\n",
      "|   S Allison| 2116|\n",
      "|   M Donohue| 2060|\n",
      "|     R Welch| 2054|\n",
      "|     S Singh| 1320|\n",
      "|  J Gillett |  725|\n",
      "|      A Moss|    6|\n",
      "+------------+-----+\n",
      "\n"
     ]
    }
   ],
   "source": [
    "df.groupBy(\"Referee\").count().orderBy(\"count\", ascending=False).show(300)"
   ]
  },
  {
   "cell_type": "code",
   "execution_count": 39,
   "id": "4bfcfe3a",
   "metadata": {},
   "outputs": [
    {
     "ename": "AnalysisException",
     "evalue": "[AMBIGUOUS_REFERENCE] Reference `Time` is ambiguous, could be: [`games`.`Time`, `games`.`Time`].",
     "output_type": "error",
     "traceback": [
      "\u001b[1;31m---------------------------------------------------------------------------\u001b[0m",
      "\u001b[1;31mAnalysisException\u001b[0m                         Traceback (most recent call last)",
      "Cell \u001b[1;32mIn[39], line 3\u001b[0m\n\u001b[0;32m      1\u001b[0m df \u001b[38;5;241m=\u001b[39m df\u001b[38;5;241m.\u001b[39mwithColumn(\u001b[38;5;124m\"\u001b[39m\u001b[38;5;124mcorrected_date\u001b[39m\u001b[38;5;124m\"\u001b[39m, expr(\u001b[38;5;124m\"\u001b[39m\u001b[38;5;124mconcat(\u001b[39m\u001b[38;5;124m'\u001b[39m\u001b[38;5;124m20\u001b[39m\u001b[38;5;124m'\u001b[39m\u001b[38;5;124m, substr(date, 9, 2), \u001b[39m\u001b[38;5;124m'\u001b[39m\u001b[38;5;124m-\u001b[39m\u001b[38;5;124m'\u001b[39m\u001b[38;5;124m, substr(date, 4, 2), \u001b[39m\u001b[38;5;124m'\u001b[39m\u001b[38;5;124m-\u001b[39m\u001b[38;5;124m'\u001b[39m\u001b[38;5;124m, substr(date, 1, 2))\u001b[39m\u001b[38;5;124m\"\u001b[39m))\n\u001b[0;32m      2\u001b[0m df \u001b[38;5;241m=\u001b[39m df\u001b[38;5;241m.\u001b[39mwithColumn(\u001b[38;5;124m\"\u001b[39m\u001b[38;5;124mcorrected_date_type\u001b[39m\u001b[38;5;124m\"\u001b[39m, to_date(col(\u001b[38;5;124m\"\u001b[39m\u001b[38;5;124mcorrected_date\u001b[39m\u001b[38;5;124m\"\u001b[39m)))\n\u001b[1;32m----> 3\u001b[0m df \u001b[38;5;241m=\u001b[39m \u001b[43mdf\u001b[49m\u001b[38;5;241;43m.\u001b[39;49m\u001b[43mwithColumn\u001b[49m\u001b[43m(\u001b[49m\u001b[38;5;124;43m\"\u001b[39;49m\u001b[38;5;124;43mupdated_datetime\u001b[39;49m\u001b[38;5;124;43m\"\u001b[39;49m\u001b[43m,\u001b[49m\u001b[43m \u001b[49m\u001b[43m(\u001b[49m\u001b[43mto_timestamp\u001b[49m\u001b[43m(\u001b[49m\u001b[43mconcat_ws\u001b[49m\u001b[43m(\u001b[49m\u001b[38;5;124;43m'\u001b[39;49m\u001b[38;5;124;43m \u001b[39;49m\u001b[38;5;124;43m'\u001b[39;49m\u001b[43m,\u001b[49m\u001b[43m \u001b[49m\u001b[43mdate_format\u001b[49m\u001b[43m(\u001b[49m\u001b[43mcol\u001b[49m\u001b[43m(\u001b[49m\u001b[38;5;124;43m\"\u001b[39;49m\u001b[38;5;124;43mcorrected_date_type\u001b[39;49m\u001b[38;5;124;43m\"\u001b[39;49m\u001b[43m)\u001b[49m\u001b[43m,\u001b[49m\u001b[43m \u001b[49m\u001b[38;5;124;43m'\u001b[39;49m\u001b[38;5;124;43myyyy-MM-dd\u001b[39;49m\u001b[38;5;124;43m'\u001b[39;49m\u001b[43m)\u001b[49m\u001b[43m,\u001b[49m\u001b[43m \u001b[49m\u001b[43mdate_format\u001b[49m\u001b[43m(\u001b[49m\u001b[43mcol\u001b[49m\u001b[43m(\u001b[49m\u001b[38;5;124;43m\"\u001b[39;49m\u001b[38;5;124;43mTime\u001b[39;49m\u001b[38;5;124;43m\"\u001b[39;49m\u001b[43m)\u001b[49m\u001b[43m,\u001b[49m\u001b[43m \u001b[49m\u001b[38;5;124;43m'\u001b[39;49m\u001b[38;5;124;43mHH:mm:ss\u001b[39;49m\u001b[38;5;124;43m'\u001b[39;49m\u001b[43m)\u001b[49m\u001b[43m)\u001b[49m\u001b[43m)\u001b[49m\u001b[43m)\u001b[49m\u001b[43m)\u001b[49m\n\u001b[0;32m      4\u001b[0m df \u001b[38;5;241m=\u001b[39m df\u001b[38;5;241m.\u001b[39mdrop(\u001b[38;5;124m\"\u001b[39m\u001b[38;5;124mDate\u001b[39m\u001b[38;5;124m\"\u001b[39m, \u001b[38;5;124m\"\u001b[39m\u001b[38;5;124mTime\u001b[39m\u001b[38;5;124m\"\u001b[39m, \u001b[38;5;124m\"\u001b[39m\u001b[38;5;124mcorrected_date\u001b[39m\u001b[38;5;124m\"\u001b[39m)\n\u001b[0;32m      5\u001b[0m df \u001b[38;5;241m=\u001b[39m df\u001b[38;5;241m.\u001b[39mwithColumnRenamed(\u001b[38;5;124m\"\u001b[39m\u001b[38;5;124mcorrected_date_type\u001b[39m\u001b[38;5;124m\"\u001b[39m, \u001b[38;5;124m\"\u001b[39m\u001b[38;5;124mDate\u001b[39m\u001b[38;5;124m\"\u001b[39m)\n",
      "File \u001b[1;32mc:\\Python312\\Lib\\site-packages\\pyspark\\sql\\dataframe.py:5174\u001b[0m, in \u001b[0;36mDataFrame.withColumn\u001b[1;34m(self, colName, col)\u001b[0m\n\u001b[0;32m   5169\u001b[0m \u001b[38;5;28;01mif\u001b[39;00m \u001b[38;5;129;01mnot\u001b[39;00m \u001b[38;5;28misinstance\u001b[39m(col, Column):\n\u001b[0;32m   5170\u001b[0m     \u001b[38;5;28;01mraise\u001b[39;00m PySparkTypeError(\n\u001b[0;32m   5171\u001b[0m         error_class\u001b[38;5;241m=\u001b[39m\u001b[38;5;124m\"\u001b[39m\u001b[38;5;124mNOT_COLUMN\u001b[39m\u001b[38;5;124m\"\u001b[39m,\n\u001b[0;32m   5172\u001b[0m         message_parameters\u001b[38;5;241m=\u001b[39m{\u001b[38;5;124m\"\u001b[39m\u001b[38;5;124marg_name\u001b[39m\u001b[38;5;124m\"\u001b[39m: \u001b[38;5;124m\"\u001b[39m\u001b[38;5;124mcol\u001b[39m\u001b[38;5;124m\"\u001b[39m, \u001b[38;5;124m\"\u001b[39m\u001b[38;5;124marg_type\u001b[39m\u001b[38;5;124m\"\u001b[39m: \u001b[38;5;28mtype\u001b[39m(col)\u001b[38;5;241m.\u001b[39m\u001b[38;5;18m__name__\u001b[39m},\n\u001b[0;32m   5173\u001b[0m     )\n\u001b[1;32m-> 5174\u001b[0m \u001b[38;5;28;01mreturn\u001b[39;00m DataFrame(\u001b[38;5;28;43mself\u001b[39;49m\u001b[38;5;241;43m.\u001b[39;49m\u001b[43m_jdf\u001b[49m\u001b[38;5;241;43m.\u001b[39;49m\u001b[43mwithColumn\u001b[49m\u001b[43m(\u001b[49m\u001b[43mcolName\u001b[49m\u001b[43m,\u001b[49m\u001b[43m \u001b[49m\u001b[43mcol\u001b[49m\u001b[38;5;241;43m.\u001b[39;49m\u001b[43m_jc\u001b[49m\u001b[43m)\u001b[49m, \u001b[38;5;28mself\u001b[39m\u001b[38;5;241m.\u001b[39msparkSession)\n",
      "File \u001b[1;32mc:\\Python312\\Lib\\site-packages\\py4j\\java_gateway.py:1322\u001b[0m, in \u001b[0;36mJavaMember.__call__\u001b[1;34m(self, *args)\u001b[0m\n\u001b[0;32m   1316\u001b[0m command \u001b[38;5;241m=\u001b[39m proto\u001b[38;5;241m.\u001b[39mCALL_COMMAND_NAME \u001b[38;5;241m+\u001b[39m\\\n\u001b[0;32m   1317\u001b[0m     \u001b[38;5;28mself\u001b[39m\u001b[38;5;241m.\u001b[39mcommand_header \u001b[38;5;241m+\u001b[39m\\\n\u001b[0;32m   1318\u001b[0m     args_command \u001b[38;5;241m+\u001b[39m\\\n\u001b[0;32m   1319\u001b[0m     proto\u001b[38;5;241m.\u001b[39mEND_COMMAND_PART\n\u001b[0;32m   1321\u001b[0m answer \u001b[38;5;241m=\u001b[39m \u001b[38;5;28mself\u001b[39m\u001b[38;5;241m.\u001b[39mgateway_client\u001b[38;5;241m.\u001b[39msend_command(command)\n\u001b[1;32m-> 1322\u001b[0m return_value \u001b[38;5;241m=\u001b[39m \u001b[43mget_return_value\u001b[49m\u001b[43m(\u001b[49m\n\u001b[0;32m   1323\u001b[0m \u001b[43m    \u001b[49m\u001b[43manswer\u001b[49m\u001b[43m,\u001b[49m\u001b[43m \u001b[49m\u001b[38;5;28;43mself\u001b[39;49m\u001b[38;5;241;43m.\u001b[39;49m\u001b[43mgateway_client\u001b[49m\u001b[43m,\u001b[49m\u001b[43m \u001b[49m\u001b[38;5;28;43mself\u001b[39;49m\u001b[38;5;241;43m.\u001b[39;49m\u001b[43mtarget_id\u001b[49m\u001b[43m,\u001b[49m\u001b[43m \u001b[49m\u001b[38;5;28;43mself\u001b[39;49m\u001b[38;5;241;43m.\u001b[39;49m\u001b[43mname\u001b[49m\u001b[43m)\u001b[49m\n\u001b[0;32m   1325\u001b[0m \u001b[38;5;28;01mfor\u001b[39;00m temp_arg \u001b[38;5;129;01min\u001b[39;00m temp_args:\n\u001b[0;32m   1326\u001b[0m     \u001b[38;5;28;01mif\u001b[39;00m \u001b[38;5;28mhasattr\u001b[39m(temp_arg, \u001b[38;5;124m\"\u001b[39m\u001b[38;5;124m_detach\u001b[39m\u001b[38;5;124m\"\u001b[39m):\n",
      "File \u001b[1;32mc:\\Python312\\Lib\\site-packages\\pyspark\\errors\\exceptions\\captured.py:185\u001b[0m, in \u001b[0;36mcapture_sql_exception.<locals>.deco\u001b[1;34m(*a, **kw)\u001b[0m\n\u001b[0;32m    181\u001b[0m converted \u001b[38;5;241m=\u001b[39m convert_exception(e\u001b[38;5;241m.\u001b[39mjava_exception)\n\u001b[0;32m    182\u001b[0m \u001b[38;5;28;01mif\u001b[39;00m \u001b[38;5;129;01mnot\u001b[39;00m \u001b[38;5;28misinstance\u001b[39m(converted, UnknownException):\n\u001b[0;32m    183\u001b[0m     \u001b[38;5;66;03m# Hide where the exception came from that shows a non-Pythonic\u001b[39;00m\n\u001b[0;32m    184\u001b[0m     \u001b[38;5;66;03m# JVM exception message.\u001b[39;00m\n\u001b[1;32m--> 185\u001b[0m     \u001b[38;5;28;01mraise\u001b[39;00m converted \u001b[38;5;28;01mfrom\u001b[39;00m \u001b[38;5;28;01mNone\u001b[39;00m\n\u001b[0;32m    186\u001b[0m \u001b[38;5;28;01melse\u001b[39;00m:\n\u001b[0;32m    187\u001b[0m     \u001b[38;5;28;01mraise\u001b[39;00m\n",
      "\u001b[1;31mAnalysisException\u001b[0m: [AMBIGUOUS_REFERENCE] Reference `Time` is ambiguous, could be: [`games`.`Time`, `games`.`Time`]."
     ]
    }
   ],
   "source": [
    "df = df.withColumn(\"corrected_date\", expr(\"concat('20', substr(date, 9, 2), '-', substr(date, 4, 2), '-', substr(date, 1, 2))\"))\n",
    "df = df.withColumn(\"corrected_date_type\", to_date(col(\"corrected_date\")))\n",
    "df = df.withColumn(\"updated_datetime\", (to_timestamp(concat_ws(' ', date_format(col(\"corrected_date_type\"), 'yyyy-MM-dd'), date_format(col(\"Time\"), 'HH:mm:ss')))))\n",
    "df = df.drop(\"Date\", \"Time\", \"corrected_date\")\n",
    "df = df.withColumnRenamed(\"corrected_date_type\", \"Date\")\n",
    "df = df.withColumnRenamed(\"updated_datetime\", \"Time\")\n"
   ]
  },
  {
   "cell_type": "code",
   "execution_count": null,
   "id": "2e7da5f7",
   "metadata": {},
   "outputs": [],
   "source": [
    "\n",
    "\n"
   ]
  },
  {
   "cell_type": "code",
   "execution_count": null,
   "id": "db25ef1b",
   "metadata": {},
   "outputs": [
    {
     "data": {
      "text/plain": [
       "[Row(HomeTeam='Burnley', AwayTeam='Man City', FTHG=0, FTAG=3, FTR='A', HTHG=0, HTAG=2, HTR='A', Referee='C Pawson', HS=6, AS=17, HST=1, AST=8, HF=11, AF=8, HC=6, AC=5, HY=0, AY=0, HR=1, AR=0, Date=datetime.date(2023, 8, 11), Time=datetime.datetime(2023, 8, 11, 20, 0)),\n",
       " Row(HomeTeam='Arsenal', AwayTeam=\"Nott'm Forest\", FTHG=2, FTAG=1, FTR='H', HTHG=2, HTAG=0, HTR='H', Referee='M Oliver', HS=15, AS=6, HST=7, AST=2, HF=12, AF=12, HC=8, AC=3, HY=2, AY=2, HR=0, AR=0, Date=datetime.date(2023, 8, 12), Time=datetime.datetime(2023, 8, 12, 12, 30)),\n",
       " Row(HomeTeam='Bournemouth', AwayTeam='West Ham', FTHG=1, FTAG=1, FTR='D', HTHG=0, HTAG=0, HTR='D', Referee='P Bankes', HS=14, AS=16, HST=5, AST=3, HF=9, AF=14, HC=10, AC=4, HY=1, AY=4, HR=0, AR=0, Date=datetime.date(2023, 8, 12), Time=datetime.datetime(2023, 8, 12, 15, 0)),\n",
       " Row(HomeTeam='Brighton', AwayTeam='Luton', FTHG=4, FTAG=1, FTR='H', HTHG=1, HTAG=0, HTR='H', Referee='D Coote', HS=27, AS=9, HST=12, AST=3, HF=11, AF=12, HC=6, AC=7, HY=2, AY=2, HR=0, AR=0, Date=datetime.date(2023, 8, 12), Time=datetime.datetime(2023, 8, 12, 15, 0)),\n",
       " Row(HomeTeam='Everton', AwayTeam='Fulham', FTHG=0, FTAG=1, FTR='A', HTHG=0, HTAG=0, HTR='D', Referee='S Attwell', HS=19, AS=9, HST=9, AST=2, HF=12, AF=6, HC=10, AC=4, HY=0, AY=2, HR=0, AR=0, Date=datetime.date(2023, 8, 12), Time=datetime.datetime(2023, 8, 12, 15, 0))]"
      ]
     },
     "execution_count": 200,
     "metadata": {},
     "output_type": "execute_result"
    }
   ],
   "source": [
    "df.head(5)"
   ]
  }
 ],
 "metadata": {
  "kernelspec": {
   "display_name": "Python 3 (ipykernel)",
   "language": "python",
   "name": "python3"
  },
  "language_info": {
   "codemirror_mode": {
    "name": "ipython",
    "version": 3
   },
   "file_extension": ".py",
   "mimetype": "text/x-python",
   "name": "python",
   "nbconvert_exporter": "python",
   "pygments_lexer": "ipython3",
   "version": "3.12.3"
  }
 },
 "nbformat": 4,
 "nbformat_minor": 5
}
